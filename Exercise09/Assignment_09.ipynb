{
 "cells": [
  {
   "cell_type": "markdown",
   "metadata": {
    "id": "1_5EddyRQLrZ"
   },
   "source": [
    "Data Mining: Basic Concepts - Winter 2023/24\n",
    "---------------\n",
    "``` \n",
    "> University of Konstanz \n",
    "> Department of Computer and Information Science\n",
    "> Maximilian T. Fischer, Frederik Dennig, Yannick Metz, Udo Schlegel\n",
    "```\n",
    "__Organize in teams of 2 people, return the exercise on time using ILIAS__"
   ]
  },
  {
   "cell_type": "markdown",
   "metadata": {
    "id": "gTiBbv4PQLrg"
   },
   "source": [
    "---"
   ]
  },
  {
   "cell_type": "markdown",
   "metadata": {
    "id": "IGEgwaxBQLrh"
   },
   "source": [
    "Assignment 9 in Python\n",
    "\n",
    "- __Please put your names and student IDs here___:\n",
    "    - _Lorenz Rückert_, _01/911915_\n",
    "    - _Lennart Kasserra_, _01/1358216_"
   ]
  },
  {
   "cell_type": "markdown",
   "metadata": {
    "id": "_CDAhvR1QLrh"
   },
   "source": [
    "---"
   ]
  },
  {
   "cell_type": "markdown",
   "metadata": {
    "id": "6sU0LuV4QLri"
   },
   "source": [
    "#### Exercise 1:  K-means \n",
    "\n",
    "Perform k-means clustering with k=3 using the Euclidean distance by hand. Assume that initial clusters centroids are:\n",
    "\n",
    "* Cluster 1: Record # 1\n",
    "* Cluster 2: Record # 5\n",
    "* Cluster 3: Record # 10\n",
    "\n",
    "Compute for every iteration the updated cluster prototypes and state to which cluster each point is assigned after each iteration. \n",
    "\n",
    "_Note: In this exercise, you don’t need to normalize the data._"
   ]
  },
  {
   "cell_type": "markdown",
   "metadata": {
    "id": "b1iGfiz_QLrj"
   },
   "source": [
    "|ID|X1|X2|X3|X4|X5|\n",
    "|-----|--------|-----------|-----------------|--------------|----|\n",
    "|1|0.58|0.26|0.38|0.73|0.65|\n",
    "|2|0.50|0.21|0.34|0.61|0.61|\n",
    "|3|0.92|0.80|0.70|0.60|0.61|\n",
    "|4|0.51|0.29|0.37|0.54|0.69|\n",
    "|5|0.18|0.23|0.92|0.25|0.26|\n",
    "|6|0.12|0.23|0.18|0.30|0.25|\n",
    "|7|0.90|0.85|0.75|0.60|0.63|\n",
    "|8|0.01|0.16|0.15|0.28|0.31|\n",
    "|9|0.44|0.25|0.35|0.59|0.64|\n",
    "|10|0.91|0.83|0.81|0.55|0.46|"
   ]
  },
  {
   "cell_type": "markdown",
   "metadata": {
    "id": "wfDagsppQLrj"
   },
   "source": [
    "_(Hint: you can use the ``![](imagename.png)`` to include a image in a markdown cell. You can use this to include a hand written calculation. Do not forget to also upload the image in your final submission.)_"
   ]
  },
  {
   "cell_type": "markdown",
   "metadata": {
    "id": "9_uK2PgVQLrk"
   },
   "source": [
    "```\n",
    "> Your Answer\n",
    "```"
   ]
  },
  {
   "cell_type": "markdown",
   "metadata": {
    "id": "ItqKws-vQLrk"
   },
   "source": [
    "---"
   ]
  },
  {
   "cell_type": "markdown",
   "metadata": {
    "id": "rE1Uu0CrQLrs"
   },
   "source": [
    "#### Exercise 3: Expectation Maximization (EM) Algorithm \n",
    "\n",
    "The sklearn class `GaussianMixture`can be used to compute the EM algorithm. "
   ]
  },
  {
   "cell_type": "code",
   "execution_count": 7,
   "metadata": {
    "id": "F_-4nf_OQLrt",
    "ExecuteTime": {
     "end_time": "2024-01-20T16:14:47.111203Z",
     "start_time": "2024-01-20T16:14:47.103172Z"
    }
   },
   "outputs": [],
   "source": [
    "import numpy as np\n",
    "import pandas as pd\n",
    "import matplotlib.pyplot as plt\n",
    "\n",
    "from sklearn.mixture import GaussianMixture"
   ]
  },
  {
   "cell_type": "markdown",
   "metadata": {
    "id": "T1XF1RAaQLrt"
   },
   "source": [
    "##### __(a) Cluster the `em-data.csv` data. Describe each step and reason your parameter choices.__"
   ]
  },
  {
   "cell_type": "code",
   "execution_count": 21,
   "metadata": {
    "ExecuteTime": {
     "end_time": "2024-01-20T16:27:48.220369Z",
     "start_time": "2024-01-20T16:27:48.208709Z"
    }
   },
   "outputs": [],
   "source": [
    "em_data = pd.read_csv('em-data.csv') # load the data\n",
    "\n",
    "data = em_data.values # convert to a numpy array\n",
    "\n",
    "gmm = GaussianMixture(n_components=4, random_state=0)  # create a gmm model and define number of clusters based on visual inspection below\n",
    "\n",
    "gmm.fit(data) # fit the model to the data\n",
    "\n",
    "labels = gmm.predict(data) "
   ]
  },
  {
   "cell_type": "markdown",
   "metadata": {
    "id": "NpVLgoXaQLrv"
   },
   "source": [
    "##### __(b) Visualize your results in a 2D plot.__"
   ]
  },
  {
   "cell_type": "code",
   "execution_count": 22,
   "outputs": [
    {
     "data": {
      "text/plain": "<Figure size 640x480 with 1 Axes>",
      "image/png": "[encoded data removed]"
     },
     "metadata": {},
     "output_type": "display_data"
    }
   ],
   "source": [
    "# Visualize the clusters\n",
    "plt.scatter(data[:, 0], data[:, 1], c=labels, cmap='viridis')\n",
    "plt.xlabel('Feature 1')\n",
    "plt.ylabel('Feature 2')\n",
    "plt.title('Gaussian Mixture Model Clustering')\n",
    "plt.show()"
   ],
   "metadata": {
    "collapsed": false,
    "ExecuteTime": {
     "end_time": "2024-01-20T16:27:50.744404Z",
     "start_time": "2024-01-20T16:27:50.683511Z"
    }
   }
  },
  {
   "cell_type": "markdown",
   "metadata": {
    "id": "nwr9eTWVQLrk"
   },
   "source": [
    "#### Exercise 2: Partitioning Around Medoids (PAM) \n",
    "\n",
    "Load the `USArrests.csv` dataset and the following methods which can be used to compute PAM. Please install the `pyclustering` package. \n",
    "\n",
    "_(Hint: Use only the following imports)_"
   ]
  },
  {
   "cell_type": "code",
   "execution_count": 5,
   "metadata": {
    "colab": {
     "base_uri": "https://localhost:8080/"
    },
    "id": "QfXP0BvkQLrl",
    "outputId": "fc927691-18dd-4976-fe45-f90afb71f6fe",
    "ExecuteTime": {
     "end_time": "2024-01-20T14:52:03.937749Z",
     "start_time": "2024-01-20T14:52:01.752403Z"
    }
   },
   "outputs": [
    {
     "name": "stdout",
     "output_type": "stream",
     "text": [
      "Requirement already satisfied: pyclustering in /Users/lorenzruckert/anaconda3/lib/python3.11/site-packages (0.10.1.2)\r\n",
      "Requirement already satisfied: scipy>=1.1.0 in /Users/lorenzruckert/anaconda3/lib/python3.11/site-packages (from pyclustering) (1.11.1)\r\n",
      "Requirement already satisfied: matplotlib>=3.0.0 in /Users/lorenzruckert/anaconda3/lib/python3.11/site-packages (from pyclustering) (3.7.2)\r\n",
      "Requirement already satisfied: numpy>=1.15.2 in /Users/lorenzruckert/anaconda3/lib/python3.11/site-packages (from pyclustering) (1.24.3)\r\n",
      "Requirement already satisfied: Pillow>=5.2.0 in /Users/lorenzruckert/anaconda3/lib/python3.11/site-packages (from pyclustering) (9.4.0)\r\n",
      "Requirement already satisfied: contourpy>=1.0.1 in /Users/lorenzruckert/anaconda3/lib/python3.11/site-packages (from matplotlib>=3.0.0->pyclustering) (1.0.5)\r\n",
      "Requirement already satisfied: cycler>=0.10 in /Users/lorenzruckert/anaconda3/lib/python3.11/site-packages (from matplotlib>=3.0.0->pyclustering) (0.11.0)\r\n",
      "Requirement already satisfied: fonttools>=4.22.0 in /Users/lorenzruckert/anaconda3/lib/python3.11/site-packages (from matplotlib>=3.0.0->pyclustering) (4.25.0)\r\n",
      "Requirement already satisfied: kiwisolver>=1.0.1 in /Users/lorenzruckert/anaconda3/lib/python3.11/site-packages (from matplotlib>=3.0.0->pyclustering) (1.4.4)\r\n",
      "Requirement already satisfied: packaging>=20.0 in /Users/lorenzruckert/anaconda3/lib/python3.11/site-packages (from matplotlib>=3.0.0->pyclustering) (23.1)\r\n",
      "Requirement already satisfied: pyparsing<3.1,>=2.3.1 in /Users/lorenzruckert/anaconda3/lib/python3.11/site-packages (from matplotlib>=3.0.0->pyclustering) (3.0.9)\r\n",
      "Requirement already satisfied: python-dateutil>=2.7 in /Users/lorenzruckert/anaconda3/lib/python3.11/site-packages (from matplotlib>=3.0.0->pyclustering) (2.8.2)\r\n",
      "Requirement already satisfied: six>=1.5 in /Users/lorenzruckert/anaconda3/lib/python3.11/site-packages (from python-dateutil>=2.7->matplotlib>=3.0.0->pyclustering) (1.16.0)\r\n"
     ]
    }
   ],
   "source": [
    "!pip install pyclustering\n",
    "import pandas as pd \n",
    "import numpy as np \n",
    "from pyclustering.cluster.kmedoids import kmedoids\n",
    "from scipy.spatial.distance import pdist, cdist, squareform\n",
    "import matplotlib.pyplot as plt\n",
    "from random import randrange"
   ]
  },
  {
   "cell_type": "code",
   "execution_count": 6,
   "metadata": {
    "id": "QuvqN-eSQLrl",
    "scrolled": false,
    "ExecuteTime": {
     "end_time": "2024-01-20T14:52:03.941441Z",
     "start_time": "2024-01-20T14:52:03.938954Z"
    }
   },
   "outputs": [],
   "source": [
    "# Load dataset here"
   ]
  },
  {
   "cell_type": "markdown",
   "metadata": {
    "id": "gqiMDEQgQLrm"
   },
   "source": [
    "##### __(a) Standardize the columns of the \"USArrests\" dataset. Explain why we have to standardize the dataset?__"
   ]
  },
  {
   "cell_type": "code",
   "execution_count": 6,
   "metadata": {
    "colab": {
     "base_uri": "https://localhost:8080/",
     "height": 1000
    },
    "id": "ZtR30kKiQLrm",
    "outputId": "b84cb9b7-8979-4b08-b1af-3cd3958daf62",
    "ExecuteTime": {
     "end_time": "2024-01-20T14:52:03.944666Z",
     "start_time": "2024-01-20T14:52:03.942634Z"
    }
   },
   "outputs": [],
   "source": []
  },
  {
   "cell_type": "markdown",
   "metadata": {
    "id": "b-mM3VqeQLrn"
   },
   "source": [
    "```\n",
    "> Your Answer\n",
    "```"
   ]
  },
  {
   "cell_type": "markdown",
   "metadata": {
    "id": "g0aBpQayQLro"
   },
   "source": [
    "##### __(b) Compute the PAM (`kmedoids`) using `k = 4`. List the cluster and cluster medoids. Describe and explain the results.__"
   ]
  },
  {
   "cell_type": "code",
   "execution_count": 6,
   "metadata": {
    "colab": {
     "base_uri": "https://localhost:8080/"
    },
    "id": "ld899EXbQLrp",
    "outputId": "29bb7902-d32b-46e0-cf78-7224b3be2993",
    "ExecuteTime": {
     "end_time": "2024-01-20T14:52:03.947890Z",
     "start_time": "2024-01-20T14:52:03.946104Z"
    }
   },
   "outputs": [],
   "source": []
  },
  {
   "cell_type": "markdown",
   "metadata": {
    "id": "lDwyhbpGQLrp"
   },
   "source": [
    "```\n",
    "> Your Answer\n",
    "```"
   ]
  },
  {
   "cell_type": "markdown",
   "metadata": {
    "id": "3JvsvTf9QLrq"
   },
   "source": [
    "##### __(c) Define a Python method to compute the measure for the compactness of a PAM clustering. The parameters of the method is the data and the instance of the kmedoids class (`kmedoids_instance`).__\n",
    "\n",
    "$$TD=\\sum\\limits^k_{i = 1} TD(C_i) \\text{ and } TD(C) = \\sum\\limits_{p \\in C} dist(p, m_c)$$\n",
    "\n",
    "The medoid $m_c$ is the representative element of the cluster. \n",
    "\n",
    "_(Hint: Use the `pdist` or `cdist` method to compute the pairwise distance between $p$ and $m_c$)_"
   ]
  },
  {
   "cell_type": "code",
   "execution_count": 6,
   "metadata": {
    "id": "siD59ctmQLrq",
    "ExecuteTime": {
     "end_time": "2024-01-20T14:52:03.950258Z",
     "start_time": "2024-01-20T14:52:03.948341Z"
    }
   },
   "outputs": [],
   "source": []
  },
  {
   "cell_type": "markdown",
   "metadata": {
    "id": "utYIz8teQLrq"
   },
   "source": [
    "##### __(d) Use the newly defined function to compute TD of PAM $k = 3$.__"
   ]
  },
  {
   "cell_type": "code",
   "execution_count": 6,
   "metadata": {
    "colab": {
     "base_uri": "https://localhost:8080/"
    },
    "id": "NR2VcAweQLrr",
    "outputId": "26fd2cb6-0dd2-4daf-ac11-5f01ce8565e1",
    "ExecuteTime": {
     "end_time": "2024-01-20T14:52:03.952585Z",
     "start_time": "2024-01-20T14:52:03.950957Z"
    }
   },
   "outputs": [],
   "source": []
  },
  {
   "cell_type": "markdown",
   "metadata": {
    "id": "V7loFmZ1QLrr"
   },
   "source": [
    "##### __(e) Compute the TD's for PAM with $k = 1, \\dots, 10$ and plot the results. Explain the results of the plot.__"
   ]
  },
  {
   "cell_type": "code",
   "execution_count": 6,
   "metadata": {
    "colab": {
     "base_uri": "https://localhost:8080/"
    },
    "id": "tRFxosh7QLrr",
    "outputId": "2ec4416e-c203-4c7d-e6db-f1d984c4ca1b",
    "ExecuteTime": {
     "end_time": "2024-01-20T14:52:03.954718Z",
     "start_time": "2024-01-20T14:52:03.953194Z"
    }
   },
   "outputs": [],
   "source": []
  },
  {
   "cell_type": "markdown",
   "metadata": {
    "id": "0QU_BWVjQLrs"
   },
   "source": [
    "```\n",
    "> Your Answer\n",
    "```"
   ]
  },
  {
   "cell_type": "markdown",
   "metadata": {
    "id": "zyNEPB5_QLrs"
   },
   "source": [
    "---"
   ]
  }
 ],
 "metadata": {
  "colab": {
   "collapsed_sections": [],
   "name": "Assignment_08.ipynb",
   "provenance": [],
   "toc_visible": true
  },
  "kernelspec": {
   "display_name": "Python 3 (ipykernel)",
   "language": "python",
   "name": "python3"
  },
  "language_info": {
   "codemirror_mode": {
    "name": "ipython",
    "version": 3
   },
   "file_extension": ".py",
   "mimetype": "text/x-python",
   "name": "python",
   "nbconvert_exporter": "python",
   "pygments_lexer": "ipython3",
   "version": "3.11.5"
  }
 },
 "nbformat": 4,
 "nbformat_minor": 4
}
