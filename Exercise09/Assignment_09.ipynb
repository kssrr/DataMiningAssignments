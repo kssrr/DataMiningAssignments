{
 "cells": [
  {
   "cell_type": "markdown",
   "metadata": {
    "id": "1_5EddyRQLrZ"
   },
   "source": [
    "Data Mining: Basic Concepts - Winter 2023/24\n",
    "---------------\n",
    "``` \n",
    "> University of Konstanz \n",
    "> Department of Computer and Information Science\n",
    "> Maximilian T. Fischer, Frederik Dennig, Yannick Metz, Udo Schlegel\n",
    "```\n",
    "__Organize in teams of 2 people, return the exercise on time using ILIAS__"
   ]
  },
  {
   "cell_type": "markdown",
   "metadata": {
    "id": "gTiBbv4PQLrg"
   },
   "source": [
    "---"
   ]
  },
  {
   "cell_type": "markdown",
   "metadata": {
    "id": "IGEgwaxBQLrh"
   },
   "source": [
    "Assignment 9 in Python\n",
    "---------------\n",
    "- ___Please put your names and student IDs here___:\n",
    "    - _Name_, _Student ID_\n",
    "    - _Name_, _Student ID_"
   ]
  },
  {
   "cell_type": "markdown",
   "metadata": {
    "id": "_CDAhvR1QLrh"
   },
   "source": [
    "---"
   ]
  },
  {
   "cell_type": "markdown",
   "metadata": {
    "id": "6sU0LuV4QLri"
   },
   "source": [
    "#### Exercise 1:  K-means \n",
    "\n",
    "Perform k-means clustering with k=3 using the Euclidean distance by hand. Assume that initial clusters centroids are:\n",
    "\n",
    "* Cluster 1: Record # 1\n",
    "* Cluster 2: Record # 5\n",
    "* Cluster 3: Record # 10\n",
    "\n",
    "Compute for every iteration the updated cluster prototypes and state to which cluster each point is assigned after each iteration. \n",
    "\n",
    "_Note: In this exercise, you don’t need to normalize the data._"
   ]
  },
  {
   "cell_type": "markdown",
   "metadata": {
    "id": "b1iGfiz_QLrj"
   },
   "source": [
    "|ID|X1|X2|X3|X4|X5|\n",
    "|-----|--------|-----------|-----------------|--------------|----|\n",
    "|1|0.58|0.26|0.38|0.73|0.65|\n",
    "|2|0.50|0.21|0.34|0.61|0.61|\n",
    "|3|0.92|0.80|0.70|0.60|0.61|\n",
    "|4|0.51|0.29|0.37|0.54|0.69|\n",
    "|5|0.18|0.23|0.92|0.25|0.26|\n",
    "|6|0.12|0.23|0.18|0.30|0.25|\n",
    "|7|0.90|0.85|0.75|0.60|0.63|\n",
    "|8|0.01|0.16|0.15|0.28|0.31|\n",
    "|9|0.44|0.25|0.35|0.59|0.64|\n",
    "|10|0.91|0.83|0.81|0.55|0.46|"
   ]
  },
  {
   "cell_type": "markdown",
   "metadata": {
    "id": "wfDagsppQLrj"
   },
   "source": [
    "_(Hint: you can use the ``![](imagename.png)`` to include a image in a markdown cell. You can use this to include a hand written calculation. Do not forget to also upload the image in your final submission.)_"
   ]
  },
  {
   "cell_type": "markdown",
   "metadata": {
    "id": "9_uK2PgVQLrk"
   },
   "source": [
    "```\n",
    "> Your Answer\n",
    "```"
   ]
  },
  {
   "cell_type": "markdown",
   "metadata": {
    "id": "ItqKws-vQLrk"
   },
   "source": [
    "---"
   ]
  },
  {
   "cell_type": "markdown",
   "metadata": {
    "id": "rE1Uu0CrQLrs"
   },
   "source": [
    "#### Exercise 3: Expectation Maximization (EM) Algorithm \n",
    "\n",
    "The sklearn class `GaussianMixture`can be used to compute the EM algorithm. "
   ]
  },
  {
   "cell_type": "code",
   "execution_count": 9,
   "metadata": {
    "id": "F_-4nf_OQLrt"
   },
   "outputs": [],
   "source": [
    "import numpy as np\n",
    "import pandas as pd\n",
    "import matplotlib.pyplot as plt\n",
    "\n",
    "from sklearn.mixture import GaussianMixture"
   ]
  },
  {
   "cell_type": "markdown",
   "metadata": {
    "id": "T1XF1RAaQLrt"
   },
   "source": [
    "##### __(a) Cluster the `em-data.csv` data. Describe each step and reason your parameter choices.__"
   ]
  },
  {
   "cell_type": "code",
   "execution_count": null,
   "metadata": {},
   "outputs": [],
   "source": []
  },
  {
   "cell_type": "markdown",
   "metadata": {
    "id": "NpVLgoXaQLrv"
   },
   "source": [
    "##### __(b) Visualize your results in a 2D plot.__"
   ]
  },
  {
   "cell_type": "code",
   "execution_count": null,
   "metadata": {
    "colab": {
     "base_uri": "https://localhost:8080/",
     "height": 265
    },
    "id": "W_Pa3BFYQLrv",
    "outputId": "d1eb1252-4bf7-4594-b094-f50a81e9830b"
   },
   "outputs": [],
   "source": []
  },
  {
   "cell_type": "markdown",
   "metadata": {
    "id": "nwr9eTWVQLrk"
   },
   "source": [
    "#### Exercise 2: Partitioning Around Medoids (PAM) \n",
    "\n",
    "Load the `USArrests.csv` dataset and the following methods which can be used to compute PAM. Please install the `pyclustering` package. \n",
    "\n",
    "_(Hint: Use only the following imports)_"
   ]
  },
  {
   "cell_type": "code",
   "execution_count": null,
   "metadata": {
    "colab": {
     "base_uri": "https://localhost:8080/"
    },
    "id": "QfXP0BvkQLrl",
    "outputId": "fc927691-18dd-4976-fe45-f90afb71f6fe"
   },
   "outputs": [],
   "source": [
    "!pip install pyclustering\n",
    "import pandas as pd \n",
    "import numpy as np \n",
    "from pyclustering.cluster.kmedoids import kmedoids\n",
    "from scipy.spatial.distance import pdist, cdist, squareform\n",
    "import matplotlib.pyplot as plt\n",
    "from random import randrange"
   ]
  },
  {
   "cell_type": "code",
   "execution_count": null,
   "metadata": {
    "id": "QuvqN-eSQLrl",
    "scrolled": false
   },
   "outputs": [],
   "source": [
    "# Load dataset here"
   ]
  },
  {
   "cell_type": "markdown",
   "metadata": {
    "id": "gqiMDEQgQLrm"
   },
   "source": [
    "##### __(a) Standardize the columns of the \"USArrests\" dataset. Explain why we have to standardize the dataset?__"
   ]
  },
  {
   "cell_type": "code",
   "execution_count": null,
   "metadata": {
    "colab": {
     "base_uri": "https://localhost:8080/",
     "height": 1000
    },
    "id": "ZtR30kKiQLrm",
    "outputId": "b84cb9b7-8979-4b08-b1af-3cd3958daf62"
   },
   "outputs": [],
   "source": []
  },
  {
   "cell_type": "markdown",
   "metadata": {
    "id": "b-mM3VqeQLrn"
   },
   "source": [
    "```\n",
    "> Your Answer\n",
    "```"
   ]
  },
  {
   "cell_type": "markdown",
   "metadata": {
    "id": "g0aBpQayQLro"
   },
   "source": [
    "##### __(b) Compute the PAM (`kmedoids`) using `k = 4`. List the cluster and cluster medoids. Describe and explain the results.__"
   ]
  },
  {
   "cell_type": "code",
   "execution_count": null,
   "metadata": {
    "colab": {
     "base_uri": "https://localhost:8080/"
    },
    "id": "ld899EXbQLrp",
    "outputId": "29bb7902-d32b-46e0-cf78-7224b3be2993"
   },
   "outputs": [],
   "source": []
  },
  {
   "cell_type": "markdown",
   "metadata": {
    "id": "lDwyhbpGQLrp"
   },
   "source": [
    "```\n",
    "> Your Answer\n",
    "```"
   ]
  },
  {
   "cell_type": "markdown",
   "metadata": {
    "id": "3JvsvTf9QLrq"
   },
   "source": [
    "##### __(c) Define a Python method to compute the measure for the compactness of a PAM clustering. The parameters of the method is the data and the instance of the kmedoids class (`kmedoids_instance`).__\n",
    "\n",
    "$$TD=\\sum\\limits^k_{i = 1} TD(C_i) \\text{ and } TD(C) = \\sum\\limits_{p \\in C} dist(p, m_c)$$\n",
    "\n",
    "The medoid $m_c$ is the representative element of the cluster. \n",
    "\n",
    "_(Hint: Use the `pdist` or `cdist` method to compute the pairwise distance between $p$ and $m_c$)_"
   ]
  },
  {
   "cell_type": "code",
   "execution_count": null,
   "metadata": {
    "id": "siD59ctmQLrq"
   },
   "outputs": [],
   "source": []
  },
  {
   "cell_type": "markdown",
   "metadata": {
    "id": "utYIz8teQLrq"
   },
   "source": [
    "##### __(d) Use the newly defined function to compute TD of PAM $k = 3$.__"
   ]
  },
  {
   "cell_type": "code",
   "execution_count": null,
   "metadata": {
    "colab": {
     "base_uri": "https://localhost:8080/"
    },
    "id": "NR2VcAweQLrr",
    "outputId": "26fd2cb6-0dd2-4daf-ac11-5f01ce8565e1"
   },
   "outputs": [],
   "source": []
  },
  {
   "cell_type": "markdown",
   "metadata": {
    "id": "V7loFmZ1QLrr"
   },
   "source": [
    "##### __(e) Compute the TD's for PAM with $k = 1, \\dots, 10$ and plot the results. Explain the results of the plot.__"
   ]
  },
  {
   "cell_type": "code",
   "execution_count": null,
   "metadata": {
    "colab": {
     "base_uri": "https://localhost:8080/"
    },
    "id": "tRFxosh7QLrr",
    "outputId": "2ec4416e-c203-4c7d-e6db-f1d984c4ca1b"
   },
   "outputs": [],
   "source": []
  },
  {
   "cell_type": "markdown",
   "metadata": {
    "id": "0QU_BWVjQLrs"
   },
   "source": [
    "```\n",
    "> Your Answer\n",
    "```"
   ]
  },
  {
   "cell_type": "markdown",
   "metadata": {
    "id": "zyNEPB5_QLrs"
   },
   "source": [
    "---"
   ]
  }
 ],
 "metadata": {
  "colab": {
   "collapsed_sections": [],
   "name": "Assignment_08.ipynb",
   "provenance": [],
   "toc_visible": true
  },
  "kernelspec": {
   "display_name": "Python 3 (ipykernel)",
   "language": "python",
   "name": "python3"
  },
  "language_info": {
   "codemirror_mode": {
    "name": "ipython",
    "version": 3
   },
   "file_extension": ".py",
   "mimetype": "text/x-python",
   "name": "python",
   "nbconvert_exporter": "python",
   "pygments_lexer": "ipython3",
   "version": "3.11.5"
  }
 },
 "nbformat": 4,
 "nbformat_minor": 4
}
