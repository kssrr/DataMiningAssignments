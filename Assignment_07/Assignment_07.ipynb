{
 "cells": [
  {
   "cell_type": "markdown",
   "metadata": {
    "tags": []
   },
   "source": [
    "Data Mining: Basic Concepts - Winter 2023/24\n",
    "---------------\n",
    "``` \n",
    "> University of Konstanz \n",
    "> Department of Computer and Information Science\n",
    "> Maximilian T. Fischer, Frederik Dennig, Yannick Metz, Udo Schlegel\n",
    "```\n",
    "__Organize in teams of 2 people, return the exercise on time using ILIAS__"
   ]
  },
  {
   "cell_type": "markdown",
   "metadata": {},
   "source": [
    "---"
   ]
  },
  {
   "cell_type": "markdown",
   "metadata": {
    "tags": []
   },
   "source": [
    "Assignment 07 in Python\n",
    "---------------\n",
    "- ___Please put your names and student IDs here___:\n",
    "    - _Name_, _Student ID_\n",
    "    - _Name_, _Student ID_\n",
    "---    "
   ]
  },
  {
   "cell_type": "markdown",
   "metadata": {},
   "source": [
    "Input N3:\n",
    "\n",
    "Output N3:\n",
    "\n",
    "Input N4:\n",
    "\n",
    "Output N4:\n",
    "\n",
    "Input N5:\n",
    "\n",
    "Output N5:"
   ]
  },
  {
   "cell_type": "markdown",
   "metadata": {},
   "source": [
    "---"
   ]
  },
  {
   "cell_type": "markdown",
   "metadata": {},
   "source": [
    "### Exercise 1: Classifying Hand-Written Digits with PyTorch"
   ]
  },
  {
   "cell_type": "markdown",
   "metadata": {
    "tags": []
   },
   "source": [
    "#### Getting Started\n",
    "\n",
    "This exercise will give a short introduction into the framework PyTorch (https://pytorch.org/) to build small and large neural networks.\n",
    "\n",
    "PyTorch is an open-source deep learning framework that’s known for its flexibility and ease-of-use. This is enabled in part by its compatibility with the popular Python high-level programming language favored by machine learning developers and data scientists.\n",
    "\n",
    "##### What is PyTorch?\n",
    "\n",
    "PyTorch is a fully featured framework for building deep learning models, which is a type of machine learning that’s commonly used in applications like image recognition and language processing. Written in Python, it’s relatively easy for most machine learning developers to learn and use. PyTorch is distinctive for its excellent support for GPUs and its use of reverse-mode auto-differentiation, which enables computation graphs to be modified on the fly. This makes it a popular choice for fast experimentation and prototyping.\n",
    "\n",
    "##### Key Benefits of PyTorch\n",
    "\n",
    "- There’s a large and vibrant community at PyTorch.org community with excellent documentation and tutorials. The forums are active and supportive.\n",
    "- It’s written in Python and integrated with popular Python libraries like NumPy for scientific computing, SciPy, and Cython for compiling Python to C for better performance. Because its syntax and usage are similar to Python’s, PyTorch is relatively easy for Python developers to learn.\n",
    "- It supports CPU, GPU, and parallel processing, as well as distributed training. This meana that computational work can be distributed among multiple CPU and GPU cores, and training can be done on multiple GPUs on multiple machines.\n"
   ]
  },
  {
   "cell_type": "markdown",
   "metadata": {},
   "source": [
    "__Please install the `torch` and `torchvision` packages, ideally by following the setup guide: (https://pytorch.org/get-started/locally/).__\n"
   ]
  },
  {
   "cell_type": "markdown",
   "metadata": {
    "jp-MarkdownHeadingCollapsed": true,
    "tags": []
   },
   "source": [
    "#### More Information: \n",
    " \n",
    "You can find many resources on how to get started with PyTorch, both in written form or as videos.\n",
    "In this exercise, we want to give a brief introduction. You will learn how to:\n",
    "\n",
    "1. How to create a model. \n",
    "2. How to select an optimizer, a loss function and a metric. \n",
    "3. How to train the model on data. \n",
    "4. How to predict. "
   ]
  },
  {
   "cell_type": "markdown",
   "metadata": {},
   "source": [
    "#### Exercise 1:  Build your first small Neural Network \n",
    "\n",
    "__In this exercise we will use a Neural Network on a real data set. We will classify the digits dataset (MINST)__\n",
    "\n",
    "You are allowed to use the following packages only."
   ]
  },
  {
   "cell_type": "code",
   "execution_count": 1,
   "metadata": {},
   "outputs": [],
   "source": [
    "import torch\n",
    "import torchvision"
   ]
  },
  {
   "cell_type": "code",
   "execution_count": 2,
   "metadata": {},
   "outputs": [
    {
     "data": {
      "text/plain": [
       "<torch._C.Generator at 0x7f56b417c790>"
      ]
     },
     "execution_count": 2,
     "metadata": {},
     "output_type": "execute_result"
    }
   ],
   "source": [
    "# You can keep the following parameters for training and testing\n",
    "n_epochs = 3\n",
    "batch_size_train = 64\n",
    "batch_size_test = 1000\n",
    "learning_rate = 0.01\n",
    "momentum = 0.5\n",
    "log_interval = 10\n",
    "\n",
    "random_seed = 1\n",
    "torch.manual_seed(random_seed)"
   ]
  },
  {
   "cell_type": "markdown",
   "metadata": {
    "tags": []
   },
   "source": [
    "##### __(a) Load the MNIST dataset via the torchvision dataset functionality. Load both the training and test data__\n",
    "_(Hint: use the `DataLoader` from torch and `datasets.MNIST` class from the torch library, Create a separate dataloader for training and testing.)_\n",
    "\n",
    "- Use a batch size of 64 for training, and 1000 for testing (You can just the parameters before)\n",
    "- You can pass a transform the PyTorch dataloaders to perform pre-processing of the data, use `torchvision.transforms.Compose` to chain the processing steps of `torchvision.transforms.ToTensor()`(converting images to PyTorch tensors) and `torchvision.transforms.Normalize((0.1307,), (0.3081,))` (normalize the data with mean and std. of the MNIST dataset)\n",
    "- Make sure to shuffle the data."
   ]
  },
  {
   "cell_type": "code",
   "execution_count": 10,
   "metadata": {},
   "outputs": [],
   "source": [
    "# Code here\n",
    "def create_loader(train: bool, batch_size: float) -> None:\n",
    "    loader = torch.utils.data.DataLoader(\n",
    "        torchvision.datasets.MNIST(\n",
    "            \"./data\",\n",
    "            train=train,\n",
    "            download=True,\n",
    "            transform=torchvision.transforms.Compose([\n",
    "                torchvision.transforms.ToTensor(),\n",
    "                torchvision.transforms.Normalize((0.1307,), (0.3081,))\n",
    "            ])\n",
    "        ),\n",
    "        batch_size=batch_size,\n",
    "        shuffle=True\n",
    "    )\n",
    "\n",
    "    return loader"
   ]
  },
  {
   "cell_type": "code",
   "execution_count": 11,
   "metadata": {},
   "outputs": [
    {
     "name": "stdout",
     "output_type": "stream",
     "text": [
      "Downloading http://yann.lecun.com/exdb/mnist/train-images-idx3-ubyte.gz\n",
      "Downloading http://yann.lecun.com/exdb/mnist/train-images-idx3-ubyte.gz to ./data/MNIST/raw/train-images-idx3-ubyte.gz\n"
     ]
    },
    {
     "name": "stderr",
     "output_type": "stream",
     "text": [
      "100%|██████████| 9912422/9912422 [00:00<00:00, 10772430.63it/s]\n"
     ]
    },
    {
     "name": "stdout",
     "output_type": "stream",
     "text": [
      "Extracting ./data/MNIST/raw/train-images-idx3-ubyte.gz to ./data/MNIST/raw\n",
      "\n",
      "Downloading http://yann.lecun.com/exdb/mnist/train-labels-idx1-ubyte.gz\n",
      "Downloading http://yann.lecun.com/exdb/mnist/train-labels-idx1-ubyte.gz to ./data/MNIST/raw/train-labels-idx1-ubyte.gz\n"
     ]
    },
    {
     "name": "stderr",
     "output_type": "stream",
     "text": [
      "100%|██████████| 28881/28881 [00:00<00:00, 53481542.53it/s]"
     ]
    },
    {
     "name": "stdout",
     "output_type": "stream",
     "text": [
      "Extracting ./data/MNIST/raw/train-labels-idx1-ubyte.gz to ./data/MNIST/raw\n",
      "\n",
      "Downloading http://yann.lecun.com/exdb/mnist/t10k-images-idx3-ubyte.gz\n"
     ]
    },
    {
     "name": "stderr",
     "output_type": "stream",
     "text": [
      "\n"
     ]
    },
    {
     "name": "stdout",
     "output_type": "stream",
     "text": [
      "Downloading http://yann.lecun.com/exdb/mnist/t10k-images-idx3-ubyte.gz to ./data/MNIST/raw/t10k-images-idx3-ubyte.gz\n"
     ]
    },
    {
     "name": "stderr",
     "output_type": "stream",
     "text": [
      "100%|██████████| 1648877/1648877 [00:00<00:00, 5663336.85it/s]\n"
     ]
    },
    {
     "name": "stdout",
     "output_type": "stream",
     "text": [
      "Extracting ./data/MNIST/raw/t10k-images-idx3-ubyte.gz to ./data/MNIST/raw\n",
      "\n",
      "Downloading http://yann.lecun.com/exdb/mnist/t10k-labels-idx1-ubyte.gz\n",
      "Downloading http://yann.lecun.com/exdb/mnist/t10k-labels-idx1-ubyte.gz to ./data/MNIST/raw/t10k-labels-idx1-ubyte.gz\n"
     ]
    },
    {
     "name": "stderr",
     "output_type": "stream",
     "text": [
      "100%|██████████| 4542/4542 [00:00<00:00, 3864204.62it/s]"
     ]
    },
    {
     "name": "stdout",
     "output_type": "stream",
     "text": [
      "Extracting ./data/MNIST/raw/t10k-labels-idx1-ubyte.gz to ./data/MNIST/raw\n",
      "\n"
     ]
    },
    {
     "name": "stderr",
     "output_type": "stream",
     "text": [
      "\n"
     ]
    }
   ],
   "source": [
    "train_loader = create_loader(train=True, batch_size=batch_size_train)\n",
    "test_loader = create_loader(train=False, batch_size=batch_size_test)"
   ]
  },
  {
   "cell_type": "markdown",
   "metadata": {
    "tags": []
   },
   "source": [
    "##### __(b) Quickly describe what the MMNIST dataset is. If you like, you can also visualize samples from the dataset.__"
   ]
  },
  {
   "cell_type": "markdown",
   "metadata": {},
   "source": [
    "The data contains handwritten numbers with labels:"
   ]
  },
  {
   "cell_type": "code",
   "execution_count": 12,
   "metadata": {},
   "outputs": [],
   "source": [
    "import matplotlib.pyplot as plt"
   ]
  },
  {
   "cell_type": "code",
   "execution_count": 64,
   "metadata": {},
   "outputs": [
    {
     "data": {
      "image/png": "[encoded data removed]",
      "text/plain": [
       "<Figure size 640x480 with 6 Axes>"
      ]
     },
     "metadata": {},
     "output_type": "display_data"
    }
   ],
   "source": [
    "_, (example_features, example_target) = next(enumerate(test_loader))\n",
    "examples = [{\"img\": tensor[0], \"label\": label.item()} for tensor, label in zip(example_features, example_target)]\n",
    "\n",
    "fig, _ = plt.subplots(nrows=2, ncols=3)\n",
    "\n",
    "for i, ax in enumerate(fig.axes):\n",
    "  ax.imshow(examples[i][\"img\"], cmap=\"grey\")\n",
    "  ax.set_title(f\"Label: {examples[i]['label']!s}\")\n",
    "  ax.set_xticks([])\n",
    "  ax.set_yticks([])"
   ]
  },
  {
   "attachments": {},
   "cell_type": "markdown",
   "metadata": {
    "tags": []
   },
   "source": [
    "##### __(c) Create the neural network to train.__\n",
    "\n",
    "Create a network with the `torch.nn` package. The package contains many different layers with can be composed into complex neural networks.\n",
    "- Create a class `Net` that inherits from `nn.Module`.\n",
    "- Specify the layers you want to use in the `__init__(self)` method of the class.\n",
    "- Define the `forward(self, x)` to define how the output is computed given the input `x` and layers you specified in the init\n",
    "\n",
    "You have ***two options*** for your network. Choose either one:\n",
    "\n",
    "1. Use this given architecture: A CNN network architecture containing the following layers:\n",
    "- A first `Conv2d` layer with kernel size 5, 10 filters, and stride 2\n",
    "- A `nn.RELU()` activation layer\n",
    "- A second `Conv2d` layer with kernel size 5 and 20 filters, and stride 2\n",
    "- A `nn.RELU()`activation layer\n",
    "- A first fully connected (`linear`) layer with 320 input neurons and 50 output neurons\n",
    "- A final `nn.RELU()` activation layer\n",
    "- A second fully connected layer with 50 input neurons and 10 output neurons (corresponding to the number of classes)\n",
    "- A softmax layer that turns the network activations into class probabilities\n",
    "\n",
    "2. Choose and implement your own network architecture. You are completely free in choosing a architecture you build from layers of the `nn` package. As the only condition, your network should achieve a test accuracy of at least 85%."
   ]
  },
  {
   "cell_type": "code",
   "execution_count": 65,
   "metadata": {},
   "outputs": [],
   "source": [
    "import torch.nn as nn\n",
    "\n",
    "# Code here\n",
    "class Net(nn.Module):\n",
    "    def __init__(self):\n",
    "        super(Net, self).__init__()\n",
    "        self.conv1 = nn.Conv2d(1, 10, kernel_size=5)\n",
    "        self.conv2 = nn.Conv2d(10, 20, kernel_size=5)\n",
    "        self.conv2_drop = nn.Dropout2d()\n",
    "        self.fc1 = nn.Linear(320, 50)\n",
    "        self.fc2 = nn.Linear(50, 10)\n",
    "\n",
    "    def forward(self, x):\n",
    "        x = torch.nn.functional.relu(torch.nn.functional.max_pool2d(self.conv1(x), 2))\n",
    "        x = torch.nn.functional.relu(torch.nn.functional.max_pool2d(self.conv2_drop(self.conv2(x)), 2))\n",
    "        x = x.view(-1, 320)\n",
    "        x = torch.nn.functional.relu(self.fc1(x))\n",
    "        x = torch.nn.functional.dropout(x, training=self.training)\n",
    "        x = self.fc2(x)\n",
    "        return torch.nn.functional.log_softmax(x)"
   ]
  },
  {
   "cell_type": "markdown",
   "metadata": {},
   "source": [
    "##### __(d) Initialize the network (by calling the empty constructor) and create the optimizer (`optim.SGD`) by passing the network parameters.__"
   ]
  },
  {
   "cell_type": "code",
   "execution_count": 66,
   "metadata": {},
   "outputs": [],
   "source": [
    "import torch.optim as optim\n",
    "\n",
    "network = Net()\n",
    "\n",
    "# Code here: Initialize the optimizer\n",
    "optimizer = optim.SGD(network.parameters(), lr=learning_rate, momentum=momentum)"
   ]
  },
  {
   "cell_type": "markdown",
   "metadata": {
    "tags": []
   },
   "source": [
    "##### __(f) We now train the neural network on the training data set and predict the test data set. For this, we have implemented the train and test functions for you. If you did the previous task correctly, this code should run without errors.__\n",
    "\n",
    "In this exercise, you task is to understand the given code. Try to ***fill the empty comments marked by `Explanation:`*** in the following code blocks. You can use any online ressources you like as reference:"
   ]
  },
  {
   "cell_type": "code",
   "execution_count": 67,
   "metadata": {},
   "outputs": [],
   "source": [
    "train_losses = []\n",
    "train_counter = []\n",
    "test_losses = []\n",
    "test_counter = [i*len(train_loader.dataset) for i in range(n_epochs + 1)]"
   ]
  },
  {
   "cell_type": "code",
   "execution_count": 68,
   "metadata": {
    "tags": []
   },
   "outputs": [],
   "source": [
    "import torch.nn.functional as F\n",
    "\n",
    "def train(epoch): \n",
    "    network.train()\n",
    "    for batch_idx, (data, target) in enumerate(train_loader):\n",
    "        optimizer.zero_grad() # Explanation: Setting the gradients to zero\n",
    "        output = network(data)\n",
    "        loss = F.nll_loss(output, target) # Explanation: Computing negative log likelihood loss\n",
    "        loss.backward() # Explanation: Collect a set of new gradients...\n",
    "        optimizer.step() # Explanation: ...and propagate them back\n",
    "        if batch_idx % log_interval == 0:\n",
    "            print('Train Epoch: {} [{}/{} ({:.0f}%)]\\tLoss: {:.6f}'.format(\n",
    "            epoch, batch_idx * len(data), len(train_loader.dataset),\n",
    "            100. * batch_idx / len(train_loader), loss.item()))\n",
    "            train_losses.append(loss.item())\n",
    "            train_counter.append(\n",
    "            (batch_idx*64) + ((epoch-1)*len(train_loader.dataset)))"
   ]
  },
  {
   "cell_type": "code",
   "execution_count": 69,
   "metadata": {},
   "outputs": [],
   "source": [
    "def test():\n",
    "    network.eval() # Explanation: Set the module to evaluation mode (inherited from nn.Module)\n",
    "    test_loss = 0\n",
    "    correct = 0\n",
    "    with torch.no_grad(): # Explanation: Disable gradient calculation using context manager\n",
    "        for data, target in test_loader:\n",
    "            output = network(data)\n",
    "            test_loss += F.nll_loss(output, target, size_average=False).item() # Explanation: collect negative log likelihood losses from testing\n",
    "            pred = output.data.max(1, keepdim=True)[1] # Explanation: Get predictions\n",
    "            correct += pred.eq(target.data.view_as(pred)).sum()\n",
    "        test_loss /= len(test_loader.dataset)\n",
    "        test_losses.append(test_loss)\n",
    "        print('\\nTest set: Avg. loss: {:.4f}, Accuracy: {}/{} ({:.0f}%)\\n'.format(\n",
    "        test_loss, correct, len(test_loader.dataset),\n",
    "        100. * correct / len(test_loader.dataset)))"
   ]
  },
  {
   "cell_type": "markdown",
   "metadata": {},
   "source": [
    "##### __(g) Run training and testing and describe the output.__"
   ]
  },
  {
   "cell_type": "code",
   "execution_count": 70,
   "metadata": {},
   "outputs": [
    {
     "name": "stderr",
     "output_type": "stream",
     "text": [
      "/tmp/ipykernel_8247/1863849584.py:20: UserWarning: Implicit dimension choice for log_softmax has been deprecated. Change the call to include dim=X as an argument.\n",
      "  return torch.nn.functional.log_softmax(x)\n",
      "/home/kssrr/.conda/envs/DataMining/lib/python3.11/site-packages/torch/nn/_reduction.py:42: UserWarning: size_average and reduce args will be deprecated, please use reduction='sum' instead.\n",
      "  warnings.warn(warning.format(ret))\n"
     ]
    },
    {
     "name": "stdout",
     "output_type": "stream",
     "text": [
      "\n",
      "Test set: Avg. loss: 2.3126, Accuracy: 999/10000 (10%)\n",
      "\n",
      "Train Epoch: 1 [0/60000 (0%)]\tLoss: 2.337645\n",
      "Train Epoch: 1 [640/60000 (1%)]\tLoss: 2.309736\n",
      "Train Epoch: 1 [1280/60000 (2%)]\tLoss: 2.305693\n",
      "Train Epoch: 1 [1920/60000 (3%)]\tLoss: 2.253680\n",
      "Train Epoch: 1 [2560/60000 (4%)]\tLoss: 2.280295\n",
      "Train Epoch: 1 [3200/60000 (5%)]\tLoss: 2.235041\n",
      "Train Epoch: 1 [3840/60000 (6%)]\tLoss: 2.216339\n",
      "Train Epoch: 1 [4480/60000 (7%)]\tLoss: 2.184590\n",
      "Train Epoch: 1 [5120/60000 (9%)]\tLoss: 2.154532\n",
      "Train Epoch: 1 [5760/60000 (10%)]\tLoss: 2.131589\n",
      "Train Epoch: 1 [6400/60000 (11%)]\tLoss: 1.949256\n",
      "Train Epoch: 1 [7040/60000 (12%)]\tLoss: 2.031141\n",
      "Train Epoch: 1 [7680/60000 (13%)]\tLoss: 1.770010\n",
      "Train Epoch: 1 [8320/60000 (14%)]\tLoss: 1.703090\n",
      "Train Epoch: 1 [8960/60000 (15%)]\tLoss: 1.726143\n",
      "Train Epoch: 1 [9600/60000 (16%)]\tLoss: 1.408366\n",
      "Train Epoch: 1 [10240/60000 (17%)]\tLoss: 1.479227\n",
      "Train Epoch: 1 [10880/60000 (18%)]\tLoss: 1.437369\n",
      "Train Epoch: 1 [11520/60000 (19%)]\tLoss: 1.263910\n",
      "Train Epoch: 1 [12160/60000 (20%)]\tLoss: 1.329973\n",
      "Train Epoch: 1 [12800/60000 (21%)]\tLoss: 1.337702\n",
      "Train Epoch: 1 [13440/60000 (22%)]\tLoss: 1.226126\n",
      "Train Epoch: 1 [14080/60000 (23%)]\tLoss: 1.144744\n",
      "Train Epoch: 1 [14720/60000 (25%)]\tLoss: 1.362926\n",
      "Train Epoch: 1 [15360/60000 (26%)]\tLoss: 0.964675\n",
      "Train Epoch: 1 [16000/60000 (27%)]\tLoss: 0.899001\n",
      "Train Epoch: 1 [16640/60000 (28%)]\tLoss: 1.035565\n",
      "Train Epoch: 1 [17280/60000 (29%)]\tLoss: 0.844385\n",
      "Train Epoch: 1 [17920/60000 (30%)]\tLoss: 0.970497\n",
      "Train Epoch: 1 [18560/60000 (31%)]\tLoss: 0.885756\n",
      "Train Epoch: 1 [19200/60000 (32%)]\tLoss: 0.581312\n",
      "Train Epoch: 1 [19840/60000 (33%)]\tLoss: 0.922590\n",
      "Train Epoch: 1 [20480/60000 (34%)]\tLoss: 0.937570\n",
      "Train Epoch: 1 [21120/60000 (35%)]\tLoss: 0.898712\n",
      "Train Epoch: 1 [21760/60000 (36%)]\tLoss: 0.585922\n",
      "Train Epoch: 1 [22400/60000 (37%)]\tLoss: 0.730685\n",
      "Train Epoch: 1 [23040/60000 (38%)]\tLoss: 0.783324\n",
      "Train Epoch: 1 [23680/60000 (39%)]\tLoss: 0.657486\n",
      "Train Epoch: 1 [24320/60000 (41%)]\tLoss: 0.603146\n",
      "Train Epoch: 1 [24960/60000 (42%)]\tLoss: 0.795314\n",
      "Train Epoch: 1 [25600/60000 (43%)]\tLoss: 0.717984\n",
      "Train Epoch: 1 [26240/60000 (44%)]\tLoss: 0.704839\n",
      "Train Epoch: 1 [26880/60000 (45%)]\tLoss: 0.583927\n",
      "Train Epoch: 1 [27520/60000 (46%)]\tLoss: 0.760760\n",
      "Train Epoch: 1 [28160/60000 (47%)]\tLoss: 0.707340\n",
      "Train Epoch: 1 [28800/60000 (48%)]\tLoss: 0.488961\n",
      "Train Epoch: 1 [29440/60000 (49%)]\tLoss: 1.089534\n",
      "Train Epoch: 1 [30080/60000 (50%)]\tLoss: 0.807187\n",
      "Train Epoch: 1 [30720/60000 (51%)]\tLoss: 0.761819\n",
      "Train Epoch: 1 [31360/60000 (52%)]\tLoss: 0.724625\n",
      "Train Epoch: 1 [32000/60000 (53%)]\tLoss: 0.730742\n",
      "Train Epoch: 1 [32640/60000 (54%)]\tLoss: 0.468791\n",
      "Train Epoch: 1 [33280/60000 (55%)]\tLoss: 0.580743\n",
      "Train Epoch: 1 [33920/60000 (57%)]\tLoss: 0.604117\n",
      "Train Epoch: 1 [34560/60000 (58%)]\tLoss: 0.660585\n",
      "Train Epoch: 1 [35200/60000 (59%)]\tLoss: 0.674478\n",
      "Train Epoch: 1 [35840/60000 (60%)]\tLoss: 0.465841\n",
      "Train Epoch: 1 [36480/60000 (61%)]\tLoss: 0.411349\n",
      "Train Epoch: 1 [37120/60000 (62%)]\tLoss: 0.459319\n",
      "Train Epoch: 1 [37760/60000 (63%)]\tLoss: 0.482296\n",
      "Train Epoch: 1 [38400/60000 (64%)]\tLoss: 0.710959\n",
      "Train Epoch: 1 [39040/60000 (65%)]\tLoss: 0.480003\n",
      "Train Epoch: 1 [39680/60000 (66%)]\tLoss: 0.752237\n",
      "Train Epoch: 1 [40320/60000 (67%)]\tLoss: 0.661350\n",
      "Train Epoch: 1 [40960/60000 (68%)]\tLoss: 0.707375\n",
      "Train Epoch: 1 [41600/60000 (69%)]\tLoss: 0.542502\n",
      "Train Epoch: 1 [42240/60000 (70%)]\tLoss: 0.576730\n",
      "Train Epoch: 1 [42880/60000 (71%)]\tLoss: 0.531543\n",
      "Train Epoch: 1 [43520/60000 (72%)]\tLoss: 0.527609\n",
      "Train Epoch: 1 [44160/60000 (74%)]\tLoss: 0.377890\n",
      "Train Epoch: 1 [44800/60000 (75%)]\tLoss: 0.556757\n",
      "Train Epoch: 1 [45440/60000 (76%)]\tLoss: 0.453680\n",
      "Train Epoch: 1 [46080/60000 (77%)]\tLoss: 0.644246\n",
      "Train Epoch: 1 [46720/60000 (78%)]\tLoss: 0.446475\n",
      "Train Epoch: 1 [47360/60000 (79%)]\tLoss: 0.731530\n",
      "Train Epoch: 1 [48000/60000 (80%)]\tLoss: 0.443819\n",
      "Train Epoch: 1 [48640/60000 (81%)]\tLoss: 0.405973\n",
      "Train Epoch: 1 [49280/60000 (82%)]\tLoss: 0.399842\n",
      "Train Epoch: 1 [49920/60000 (83%)]\tLoss: 0.432207\n",
      "Train Epoch: 1 [50560/60000 (84%)]\tLoss: 0.735540\n",
      "Train Epoch: 1 [51200/60000 (85%)]\tLoss: 0.549907\n",
      "Train Epoch: 1 [51840/60000 (86%)]\tLoss: 0.504496\n",
      "Train Epoch: 1 [52480/60000 (87%)]\tLoss: 0.682670\n",
      "Train Epoch: 1 [53120/60000 (88%)]\tLoss: 0.661006\n",
      "Train Epoch: 1 [53760/60000 (90%)]\tLoss: 0.487656\n",
      "Train Epoch: 1 [54400/60000 (91%)]\tLoss: 0.356826\n",
      "Train Epoch: 1 [55040/60000 (92%)]\tLoss: 0.396982\n",
      "Train Epoch: 1 [55680/60000 (93%)]\tLoss: 0.476373\n",
      "Train Epoch: 1 [56320/60000 (94%)]\tLoss: 0.611798\n",
      "Train Epoch: 1 [56960/60000 (95%)]\tLoss: 0.579800\n",
      "Train Epoch: 1 [57600/60000 (96%)]\tLoss: 0.394644\n",
      "Train Epoch: 1 [58240/60000 (97%)]\tLoss: 0.586223\n",
      "Train Epoch: 1 [58880/60000 (98%)]\tLoss: 0.765355\n",
      "Train Epoch: 1 [59520/60000 (99%)]\tLoss: 0.356245\n",
      "\n",
      "Test set: Avg. loss: 0.1882, Accuracy: 9443/10000 (94%)\n",
      "\n",
      "Train Epoch: 2 [0/60000 (0%)]\tLoss: 0.906261\n",
      "Train Epoch: 2 [640/60000 (1%)]\tLoss: 0.317386\n",
      "Train Epoch: 2 [1280/60000 (2%)]\tLoss: 0.452667\n",
      "Train Epoch: 2 [1920/60000 (3%)]\tLoss: 0.420179\n",
      "Train Epoch: 2 [2560/60000 (4%)]\tLoss: 0.580719\n",
      "Train Epoch: 2 [3200/60000 (5%)]\tLoss: 0.561762\n",
      "Train Epoch: 2 [3840/60000 (6%)]\tLoss: 0.517819\n",
      "Train Epoch: 2 [4480/60000 (7%)]\tLoss: 0.414017\n",
      "Train Epoch: 2 [5120/60000 (9%)]\tLoss: 0.540450\n",
      "Train Epoch: 2 [5760/60000 (10%)]\tLoss: 0.478961\n",
      "Train Epoch: 2 [6400/60000 (11%)]\tLoss: 0.413801\n",
      "Train Epoch: 2 [7040/60000 (12%)]\tLoss: 0.352997\n",
      "Train Epoch: 2 [7680/60000 (13%)]\tLoss: 0.632181\n",
      "Train Epoch: 2 [8320/60000 (14%)]\tLoss: 0.519140\n",
      "Train Epoch: 2 [8960/60000 (15%)]\tLoss: 0.368343\n",
      "Train Epoch: 2 [9600/60000 (16%)]\tLoss: 0.603269\n",
      "Train Epoch: 2 [10240/60000 (17%)]\tLoss: 0.383203\n",
      "Train Epoch: 2 [10880/60000 (18%)]\tLoss: 0.497682\n",
      "Train Epoch: 2 [11520/60000 (19%)]\tLoss: 0.248732\n",
      "Train Epoch: 2 [12160/60000 (20%)]\tLoss: 0.507398\n",
      "Train Epoch: 2 [12800/60000 (21%)]\tLoss: 0.495120\n",
      "Train Epoch: 2 [13440/60000 (22%)]\tLoss: 0.691419\n",
      "Train Epoch: 2 [14080/60000 (23%)]\tLoss: 0.413751\n",
      "Train Epoch: 2 [14720/60000 (25%)]\tLoss: 0.322339\n",
      "Train Epoch: 2 [15360/60000 (26%)]\tLoss: 0.406702\n",
      "Train Epoch: 2 [16000/60000 (27%)]\tLoss: 0.282106\n",
      "Train Epoch: 2 [16640/60000 (28%)]\tLoss: 0.471105\n",
      "Train Epoch: 2 [17280/60000 (29%)]\tLoss: 0.353205\n",
      "Train Epoch: 2 [17920/60000 (30%)]\tLoss: 0.239795\n",
      "Train Epoch: 2 [18560/60000 (31%)]\tLoss: 0.437325\n",
      "Train Epoch: 2 [19200/60000 (32%)]\tLoss: 0.223652\n",
      "Train Epoch: 2 [19840/60000 (33%)]\tLoss: 0.361507\n",
      "Train Epoch: 2 [20480/60000 (34%)]\tLoss: 0.570824\n",
      "Train Epoch: 2 [21120/60000 (35%)]\tLoss: 0.458100\n",
      "Train Epoch: 2 [21760/60000 (36%)]\tLoss: 0.422073\n",
      "Train Epoch: 2 [22400/60000 (37%)]\tLoss: 0.377737\n",
      "Train Epoch: 2 [23040/60000 (38%)]\tLoss: 0.309389\n",
      "Train Epoch: 2 [23680/60000 (39%)]\tLoss: 0.371537\n",
      "Train Epoch: 2 [24320/60000 (41%)]\tLoss: 0.488662\n",
      "Train Epoch: 2 [24960/60000 (42%)]\tLoss: 0.424736\n",
      "Train Epoch: 2 [25600/60000 (43%)]\tLoss: 0.336538\n",
      "Train Epoch: 2 [26240/60000 (44%)]\tLoss: 0.213787\n",
      "Train Epoch: 2 [26880/60000 (45%)]\tLoss: 0.471736\n",
      "Train Epoch: 2 [27520/60000 (46%)]\tLoss: 0.513256\n",
      "Train Epoch: 2 [28160/60000 (47%)]\tLoss: 0.464115\n",
      "Train Epoch: 2 [28800/60000 (48%)]\tLoss: 0.278941\n",
      "Train Epoch: 2 [29440/60000 (49%)]\tLoss: 0.320035\n",
      "Train Epoch: 2 [30080/60000 (50%)]\tLoss: 0.280020\n",
      "Train Epoch: 2 [30720/60000 (51%)]\tLoss: 0.161581\n",
      "Train Epoch: 2 [31360/60000 (52%)]\tLoss: 0.304288\n",
      "Train Epoch: 2 [32000/60000 (53%)]\tLoss: 0.324975\n",
      "Train Epoch: 2 [32640/60000 (54%)]\tLoss: 0.336774\n",
      "Train Epoch: 2 [33280/60000 (55%)]\tLoss: 0.574599\n",
      "Train Epoch: 2 [33920/60000 (57%)]\tLoss: 0.318051\n",
      "Train Epoch: 2 [34560/60000 (58%)]\tLoss: 0.495691\n",
      "Train Epoch: 2 [35200/60000 (59%)]\tLoss: 0.600570\n",
      "Train Epoch: 2 [35840/60000 (60%)]\tLoss: 0.337854\n",
      "Train Epoch: 2 [36480/60000 (61%)]\tLoss: 0.551565\n",
      "Train Epoch: 2 [37120/60000 (62%)]\tLoss: 0.588641\n",
      "Train Epoch: 2 [37760/60000 (63%)]\tLoss: 0.253439\n",
      "Train Epoch: 2 [38400/60000 (64%)]\tLoss: 0.484665\n",
      "Train Epoch: 2 [39040/60000 (65%)]\tLoss: 0.266746\n",
      "Train Epoch: 2 [39680/60000 (66%)]\tLoss: 0.507270\n",
      "Train Epoch: 2 [40320/60000 (67%)]\tLoss: 0.174405\n",
      "Train Epoch: 2 [40960/60000 (68%)]\tLoss: 0.442673\n",
      "Train Epoch: 2 [41600/60000 (69%)]\tLoss: 0.343474\n",
      "Train Epoch: 2 [42240/60000 (70%)]\tLoss: 0.238099\n",
      "Train Epoch: 2 [42880/60000 (71%)]\tLoss: 0.252637\n",
      "Train Epoch: 2 [43520/60000 (72%)]\tLoss: 0.275123\n",
      "Train Epoch: 2 [44160/60000 (74%)]\tLoss: 0.373949\n",
      "Train Epoch: 2 [44800/60000 (75%)]\tLoss: 0.397251\n",
      "Train Epoch: 2 [45440/60000 (76%)]\tLoss: 0.422781\n",
      "Train Epoch: 2 [46080/60000 (77%)]\tLoss: 0.304455\n",
      "Train Epoch: 2 [46720/60000 (78%)]\tLoss: 0.289423\n",
      "Train Epoch: 2 [47360/60000 (79%)]\tLoss: 0.239841\n",
      "Train Epoch: 2 [48000/60000 (80%)]\tLoss: 0.251903\n",
      "Train Epoch: 2 [48640/60000 (81%)]\tLoss: 0.287906\n",
      "Train Epoch: 2 [49280/60000 (82%)]\tLoss: 0.432972\n",
      "Train Epoch: 2 [49920/60000 (83%)]\tLoss: 0.415507\n",
      "Train Epoch: 2 [50560/60000 (84%)]\tLoss: 0.385021\n",
      "Train Epoch: 2 [51200/60000 (85%)]\tLoss: 0.309214\n",
      "Train Epoch: 2 [51840/60000 (86%)]\tLoss: 0.441044\n",
      "Train Epoch: 2 [52480/60000 (87%)]\tLoss: 0.236489\n",
      "Train Epoch: 2 [53120/60000 (88%)]\tLoss: 0.349016\n",
      "Train Epoch: 2 [53760/60000 (90%)]\tLoss: 0.708290\n",
      "Train Epoch: 2 [54400/60000 (91%)]\tLoss: 0.274015\n",
      "Train Epoch: 2 [55040/60000 (92%)]\tLoss: 0.276621\n",
      "Train Epoch: 2 [55680/60000 (93%)]\tLoss: 0.501492\n",
      "Train Epoch: 2 [56320/60000 (94%)]\tLoss: 0.473531\n",
      "Train Epoch: 2 [56960/60000 (95%)]\tLoss: 0.227367\n",
      "Train Epoch: 2 [57600/60000 (96%)]\tLoss: 0.325939\n",
      "Train Epoch: 2 [58240/60000 (97%)]\tLoss: 0.289141\n",
      "Train Epoch: 2 [58880/60000 (98%)]\tLoss: 0.128932\n",
      "Train Epoch: 2 [59520/60000 (99%)]\tLoss: 0.218097\n",
      "\n",
      "Test set: Avg. loss: 0.1149, Accuracy: 9650/10000 (96%)\n",
      "\n",
      "Train Epoch: 3 [0/60000 (0%)]\tLoss: 0.249884\n",
      "Train Epoch: 3 [640/60000 (1%)]\tLoss: 0.393190\n",
      "Train Epoch: 3 [1280/60000 (2%)]\tLoss: 0.381741\n",
      "Train Epoch: 3 [1920/60000 (3%)]\tLoss: 0.355387\n",
      "Train Epoch: 3 [2560/60000 (4%)]\tLoss: 0.400301\n",
      "Train Epoch: 3 [3200/60000 (5%)]\tLoss: 0.271119\n",
      "Train Epoch: 3 [3840/60000 (6%)]\tLoss: 0.455199\n",
      "Train Epoch: 3 [4480/60000 (7%)]\tLoss: 0.260725\n",
      "Train Epoch: 3 [5120/60000 (9%)]\tLoss: 0.400085\n",
      "Train Epoch: 3 [5760/60000 (10%)]\tLoss: 0.262132\n",
      "Train Epoch: 3 [6400/60000 (11%)]\tLoss: 0.475981\n",
      "Train Epoch: 3 [7040/60000 (12%)]\tLoss: 0.263924\n",
      "Train Epoch: 3 [7680/60000 (13%)]\tLoss: 0.419452\n",
      "Train Epoch: 3 [8320/60000 (14%)]\tLoss: 0.135907\n",
      "Train Epoch: 3 [8960/60000 (15%)]\tLoss: 0.518225\n",
      "Train Epoch: 3 [9600/60000 (16%)]\tLoss: 0.327665\n",
      "Train Epoch: 3 [10240/60000 (17%)]\tLoss: 0.296020\n",
      "Train Epoch: 3 [10880/60000 (18%)]\tLoss: 0.281653\n",
      "Train Epoch: 3 [11520/60000 (19%)]\tLoss: 0.401886\n",
      "Train Epoch: 3 [12160/60000 (20%)]\tLoss: 0.411716\n",
      "Train Epoch: 3 [12800/60000 (21%)]\tLoss: 0.404274\n",
      "Train Epoch: 3 [13440/60000 (22%)]\tLoss: 0.274255\n",
      "Train Epoch: 3 [14080/60000 (23%)]\tLoss: 0.300926\n",
      "Train Epoch: 3 [14720/60000 (25%)]\tLoss: 0.262470\n",
      "Train Epoch: 3 [15360/60000 (26%)]\tLoss: 0.479649\n",
      "Train Epoch: 3 [16000/60000 (27%)]\tLoss: 0.274867\n",
      "Train Epoch: 3 [16640/60000 (28%)]\tLoss: 0.287445\n",
      "Train Epoch: 3 [17280/60000 (29%)]\tLoss: 0.232099\n",
      "Train Epoch: 3 [17920/60000 (30%)]\tLoss: 0.311227\n",
      "Train Epoch: 3 [18560/60000 (31%)]\tLoss: 0.417302\n",
      "Train Epoch: 3 [19200/60000 (32%)]\tLoss: 0.361153\n",
      "Train Epoch: 3 [19840/60000 (33%)]\tLoss: 0.364204\n",
      "Train Epoch: 3 [20480/60000 (34%)]\tLoss: 0.381327\n",
      "Train Epoch: 3 [21120/60000 (35%)]\tLoss: 0.204490\n",
      "Train Epoch: 3 [21760/60000 (36%)]\tLoss: 0.176328\n",
      "Train Epoch: 3 [22400/60000 (37%)]\tLoss: 0.160040\n",
      "Train Epoch: 3 [23040/60000 (38%)]\tLoss: 0.145800\n",
      "Train Epoch: 3 [23680/60000 (39%)]\tLoss: 0.160808\n",
      "Train Epoch: 3 [24320/60000 (41%)]\tLoss: 0.355296\n",
      "Train Epoch: 3 [24960/60000 (42%)]\tLoss: 0.402000\n",
      "Train Epoch: 3 [25600/60000 (43%)]\tLoss: 0.416241\n",
      "Train Epoch: 3 [26240/60000 (44%)]\tLoss: 0.556272\n",
      "Train Epoch: 3 [26880/60000 (45%)]\tLoss: 0.358742\n",
      "Train Epoch: 3 [27520/60000 (46%)]\tLoss: 0.201244\n",
      "Train Epoch: 3 [28160/60000 (47%)]\tLoss: 0.262818\n",
      "Train Epoch: 3 [28800/60000 (48%)]\tLoss: 0.719966\n",
      "Train Epoch: 3 [29440/60000 (49%)]\tLoss: 0.288969\n",
      "Train Epoch: 3 [30080/60000 (50%)]\tLoss: 0.303887\n",
      "Train Epoch: 3 [30720/60000 (51%)]\tLoss: 0.267620\n",
      "Train Epoch: 3 [31360/60000 (52%)]\tLoss: 0.221461\n",
      "Train Epoch: 3 [32000/60000 (53%)]\tLoss: 0.255964\n",
      "Train Epoch: 3 [32640/60000 (54%)]\tLoss: 0.284442\n",
      "Train Epoch: 3 [33280/60000 (55%)]\tLoss: 0.281435\n",
      "Train Epoch: 3 [33920/60000 (57%)]\tLoss: 0.363547\n",
      "Train Epoch: 3 [34560/60000 (58%)]\tLoss: 0.258142\n",
      "Train Epoch: 3 [35200/60000 (59%)]\tLoss: 0.137626\n",
      "Train Epoch: 3 [35840/60000 (60%)]\tLoss: 0.262097\n",
      "Train Epoch: 3 [36480/60000 (61%)]\tLoss: 0.218272\n",
      "Train Epoch: 3 [37120/60000 (62%)]\tLoss: 0.241703\n",
      "Train Epoch: 3 [37760/60000 (63%)]\tLoss: 0.199421\n",
      "Train Epoch: 3 [38400/60000 (64%)]\tLoss: 0.327780\n",
      "Train Epoch: 3 [39040/60000 (65%)]\tLoss: 0.329563\n",
      "Train Epoch: 3 [39680/60000 (66%)]\tLoss: 0.282099\n",
      "Train Epoch: 3 [40320/60000 (67%)]\tLoss: 0.219222\n",
      "Train Epoch: 3 [40960/60000 (68%)]\tLoss: 0.252861\n",
      "Train Epoch: 3 [41600/60000 (69%)]\tLoss: 0.507271\n",
      "Train Epoch: 3 [42240/60000 (70%)]\tLoss: 0.273382\n",
      "Train Epoch: 3 [42880/60000 (71%)]\tLoss: 0.404333\n",
      "Train Epoch: 3 [43520/60000 (72%)]\tLoss: 0.204935\n",
      "Train Epoch: 3 [44160/60000 (74%)]\tLoss: 0.243474\n",
      "Train Epoch: 3 [44800/60000 (75%)]\tLoss: 0.201247\n",
      "Train Epoch: 3 [45440/60000 (76%)]\tLoss: 0.304914\n",
      "Train Epoch: 3 [46080/60000 (77%)]\tLoss: 0.152015\n",
      "Train Epoch: 3 [46720/60000 (78%)]\tLoss: 0.385755\n",
      "Train Epoch: 3 [47360/60000 (79%)]\tLoss: 0.186973\n",
      "Train Epoch: 3 [48000/60000 (80%)]\tLoss: 0.276267\n",
      "Train Epoch: 3 [48640/60000 (81%)]\tLoss: 0.391815\n",
      "Train Epoch: 3 [49280/60000 (82%)]\tLoss: 0.231419\n",
      "Train Epoch: 3 [49920/60000 (83%)]\tLoss: 0.484851\n",
      "Train Epoch: 3 [50560/60000 (84%)]\tLoss: 0.195498\n",
      "Train Epoch: 3 [51200/60000 (85%)]\tLoss: 0.192989\n",
      "Train Epoch: 3 [51840/60000 (86%)]\tLoss: 0.425215\n",
      "Train Epoch: 3 [52480/60000 (87%)]\tLoss: 0.254186\n",
      "Train Epoch: 3 [53120/60000 (88%)]\tLoss: 0.499182\n",
      "Train Epoch: 3 [53760/60000 (90%)]\tLoss: 0.299379\n",
      "Train Epoch: 3 [54400/60000 (91%)]\tLoss: 0.227051\n",
      "Train Epoch: 3 [55040/60000 (92%)]\tLoss: 0.496931\n",
      "Train Epoch: 3 [55680/60000 (93%)]\tLoss: 0.224477\n",
      "Train Epoch: 3 [56320/60000 (94%)]\tLoss: 0.348438\n",
      "Train Epoch: 3 [56960/60000 (95%)]\tLoss: 0.235744\n",
      "Train Epoch: 3 [57600/60000 (96%)]\tLoss: 0.246868\n",
      "Train Epoch: 3 [58240/60000 (97%)]\tLoss: 0.392133\n",
      "Train Epoch: 3 [58880/60000 (98%)]\tLoss: 0.252207\n",
      "Train Epoch: 3 [59520/60000 (99%)]\tLoss: 0.311923\n",
      "\n",
      "Test set: Avg. loss: 0.0901, Accuracy: 9720/10000 (97%)\n",
      "\n"
     ]
    }
   ],
   "source": [
    "# Your implementation should be compatible with the following code\n",
    "\n",
    "test()\n",
    "for epoch in range(1, n_epochs + 1):\n",
    "    train(epoch)\n",
    "    test()"
   ]
  },
  {
   "cell_type": "markdown",
   "metadata": {},
   "source": [
    "##### __(g) We have saved traning statistics in the train_losses/test_losses lists. Plot the training and test accuracy values during training. You can use any plotting library, e.g. matplotlib or seaborn.__"
   ]
  },
  {
   "cell_type": "code",
   "execution_count": 81,
   "metadata": {},
   "outputs": [
    {
     "data": {
      "text/plain": [
       "Text(0, 0.5, 'Loss')"
      ]
     },
     "execution_count": 81,
     "metadata": {},
     "output_type": "execute_result"
    },
    {
     "data": {
      "image/png": "[encoded data removed]",
      "text/plain": [
       "<Figure size 640x480 with 1 Axes>"
      ]
     },
     "metadata": {},
     "output_type": "display_data"
    }
   ],
   "source": [
    "import matplotlib.pyplot as plt\n",
    "\n",
    "# Code here\n",
    "plt.plot(train_counter, train_losses)\n",
    "plt.plot(test_counter, test_losses, color=\"orange\")\n",
    "plt.scatter(test_counter, test_losses, color=\"orange\")\n",
    "plt.legend(['Train Loss', 'Test Loss'], loc='upper right')\n",
    "plt.xlabel('Training Examples')\n",
    "plt.ylabel('Loss')"
   ]
  },
  {
   "cell_type": "markdown",
   "metadata": {},
   "source": [
    "***Interpret the results***\n",
    "\n",
    "Answer here"
   ]
  },
  {
   "cell_type": "markdown",
   "metadata": {},
   "source": [
    "```\n",
    "> Your Answer\n",
    "```"
   ]
  },
  {
   "cell_type": "markdown",
   "metadata": {},
   "source": [
    "The loss for both training and testing data decreases as the number of \"seen\" training examples increases."
   ]
  },
  {
   "cell_type": "markdown",
   "metadata": {},
   "source": [
    "#### Exercise 2: Use all the transformers"
   ]
  },
  {
   "cell_type": "markdown",
   "metadata": {},
   "source": [
    "As we learned in the lecture, nowadays, transformers are the way to go.    \n",
    "Large language models such as GPT2 and GPT3 are currently state-of-the-art for a lot of natural language processing.  \n",
    "Now, we want to look at how hard or easy it is to work with these models.  \n",
    "So, we start with a smaller model, the [GPT2 model](https://cdn.openai.com/better-language-models/language_models_are_unsupervised_multitask_learners.pdf), and use it for some text generation using the hugging face (https://huggingface.co/) [packaging](https://huggingface.co/docs/transformers/model_doc/gpt2)."
   ]
  },
  {
   "cell_type": "markdown",
   "metadata": {},
   "source": [
    "__Please install the `transformers` packages, ideally by following the setup guide: (https://huggingface.co/docs/transformers/installation).__\n"
   ]
  },
  {
   "cell_type": "markdown",
   "metadata": {},
   "source": [
    "##### __a) Load the `gpt2` (https://huggingface.co/gpt2) model from the `transformers` package and generate some follow up to 'Hi, I am a transformer, I can'.__"
   ]
  },
  {
   "cell_type": "code",
   "execution_count": 1,
   "metadata": {},
   "outputs": [
    {
     "data": {
      "application/vnd.jupyter.widget-view+json": {
       "model_id": "b3e70df617e34d7483d90aabf7ba5c08",
       "version_major": 2,
       "version_minor": 0
      },
      "text/plain": [
       "Downloading config.json:   0%|          | 0.00/665 [00:00<?, ?B/s]"
      ]
     },
     "metadata": {},
     "output_type": "display_data"
    },
    {
     "data": {
      "application/vnd.jupyter.widget-view+json": {
       "model_id": "63594629b7e040ddad6e27a14e523326",
       "version_major": 2,
       "version_minor": 0
      },
      "text/plain": [
       "Downloading model.safetensors:   0%|          | 0.00/548M [00:00<?, ?B/s]"
      ]
     },
     "metadata": {},
     "output_type": "display_data"
    },
    {
     "data": {
      "application/vnd.jupyter.widget-view+json": {
       "model_id": "181942a3fe234a57babae7f581f44728",
       "version_major": 2,
       "version_minor": 0
      },
      "text/plain": [
       "Downloading generation_config.json:   0%|          | 0.00/124 [00:00<?, ?B/s]"
      ]
     },
     "metadata": {},
     "output_type": "display_data"
    },
    {
     "data": {
      "application/vnd.jupyter.widget-view+json": {
       "model_id": "52cc1944ac3c468ca2e5d1d3074e259f",
       "version_major": 2,
       "version_minor": 0
      },
      "text/plain": [
       "Downloading vocab.json:   0%|          | 0.00/1.04M [00:00<?, ?B/s]"
      ]
     },
     "metadata": {},
     "output_type": "display_data"
    },
    {
     "data": {
      "application/vnd.jupyter.widget-view+json": {
       "model_id": "5a8e56c154f043639fcfdc15e27b49d4",
       "version_major": 2,
       "version_minor": 0
      },
      "text/plain": [
       "Downloading merges.txt:   0%|          | 0.00/456k [00:00<?, ?B/s]"
      ]
     },
     "metadata": {},
     "output_type": "display_data"
    },
    {
     "data": {
      "application/vnd.jupyter.widget-view+json": {
       "model_id": "3572fc68c3a9468486b5e8e274de36ea",
       "version_major": 2,
       "version_minor": 0
      },
      "text/plain": [
       "Downloading tokenizer.json:   0%|          | 0.00/1.36M [00:00<?, ?B/s]"
      ]
     },
     "metadata": {},
     "output_type": "display_data"
    },
    {
     "name": "stderr",
     "output_type": "stream",
     "text": [
      "Setting `pad_token_id` to `eos_token_id`:50256 for open-end generation.\n"
     ]
    },
    {
     "data": {
      "text/plain": [
       "[{'generated_text': 'Hi, I am a transformer, I can get about 25 amps of power at just 1 volt and my amp power is up to 25 amps so what we have is a very simple transformer. The power is not as bad, the transformer in fact,'},\n",
       " {'generated_text': 'Hi, I am a transformer, I can do it as well as anyone and I am very much inspired by you guys. I will be adding my own tricks to show you how easy this is if I can figure it out. Thanks again.\\n'},\n",
       " {'generated_text': 'Hi, I am a transformer, I can connect to the coil and connect it to a coil with the transformer. My main output line is a 5 gauge, I think I could make 10 of them, I used a power transformer, but I did'},\n",
       " {'generated_text': 'Hi, I am a transformer, I can go anywhere in my life. My first transformer has one switch, and I can have it do the other thing in the house and have it do many things. I get to sit in a chair for about'},\n",
       " {'generated_text': 'Hi, I am a transformer, I can do anything, and your guys all over the world can be part of it! My brother and I do a lot of stuff too, and if you want to join us, you could email me at ['}]"
      ]
     },
     "execution_count": 1,
     "metadata": {},
     "output_type": "execute_result"
    }
   ],
   "source": [
    "# Code here\n",
    "from transformers import pipeline\n",
    "\n",
    "generator = pipeline(\"text-generation\", model=\"gpt2\")\n",
    "generator(\"Hi, I am a transformer, I can\", num_return_sequences=5)"
   ]
  },
  {
   "cell_type": "markdown",
   "metadata": {},
   "source": [
    "##### __b) Use your previous code and change the `temperature`. Which changes do you see?__\n",
    "_(Hint: use the `temperature` keyword parameter in the `generator` to achieve this.)_"
   ]
  },
  {
   "cell_type": "code",
   "execution_count": 4,
   "metadata": {},
   "outputs": [
    {
     "name": "stderr",
     "output_type": "stream",
     "text": [
      "Setting `pad_token_id` to `eos_token_id`:50256 for open-end generation.\n"
     ]
    },
    {
     "data": {
      "text/plain": [
       "[{'generated_text': \"Hi, I am a transformer, I can't be a transformer. I can't be a transformer. I can't be a transformer. I can't be a transformer. I can't be a transformer. I can't be a transformer. I\"},\n",
       " {'generated_text': \"Hi, I am a transformer, I can't tell you how many times I have to say that I am a transformer. I am a transformer. I am a transformer. I am a transformer. I am a transformer. I am a transformer.\"},\n",
       " {'generated_text': \"Hi, I am a transformer, I can't do anything about it. I'm not going to do anything about it. I'm not going to do anything about it. I'm not going to do anything about it. I'm not going to\"},\n",
       " {'generated_text': \"Hi, I am a transformer, I can't do anything about it. I'm not going to do anything about it. I'm not going to do anything about it. I'm not going to do anything about it. I'm not going to\"},\n",
       " {'generated_text': \"Hi, I am a transformer, I can't do anything about it. I can't do anything about it. I can't do anything about it. I can't do anything about it. I can't do anything about it. I can't\"}]"
      ]
     },
     "execution_count": 4,
     "metadata": {},
     "output_type": "execute_result"
    }
   ],
   "source": [
    "# Code here\n",
    "generator(\"Hi, I am a transformer, I can\", num_return_sequences=5, temperature=0.1)"
   ]
  },
  {
   "cell_type": "markdown",
   "metadata": {},
   "source": [
    "```\n",
    "> Your Answer\n",
    "```"
   ]
  },
  {
   "cell_type": "markdown",
   "metadata": {},
   "source": [
    "The generated outputs seem to converge more, including many very similar or identical formulations."
   ]
  }
 ],
 "metadata": {
  "kernelspec": {
   "display_name": "Python 3 (ipykernel)",
   "language": "python",
   "name": "python3"
  },
  "language_info": {
   "codemirror_mode": {
    "name": "ipython",
    "version": 3
   },
   "file_extension": ".py",
   "mimetype": "text/x-python",
   "name": "python",
   "nbconvert_exporter": "python",
   "pygments_lexer": "ipython3",
   "version": "3.1.0"
  }
 },
 "nbformat": 4,
 "nbformat_minor": 4
}
