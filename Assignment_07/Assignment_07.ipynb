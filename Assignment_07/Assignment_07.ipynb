{
 "cells": [
  {
   "cell_type": "markdown",
   "metadata": {
    "tags": []
   },
   "source": [
    "Data Mining: Basic Concepts - Winter 2023/24\n",
    "---------------\n",
    "``` \n",
    "> University of Konstanz \n",
    "> Department of Computer and Information Science\n",
    "> Maximilian T. Fischer, Frederik Dennig, Yannick Metz, Udo Schlegel\n",
    "```\n",
    "__Organize in teams of 2 people, return the exercise on time using ILIAS__"
   ]
  },
  {
   "cell_type": "markdown",
   "metadata": {},
   "source": [
    "---"
   ]
  },
  {
   "cell_type": "markdown",
   "metadata": {
    "tags": []
   },
   "source": [
    "Assignment 07 in Python\n",
    "---------------\n",
    "- ___Please put your names and student IDs here___:\n",
    "    - _Name_, _Student ID_\n",
    "    - _Name_, _Student ID_\n",
    "---    "
   ]
  },
  {
   "cell_type": "markdown",
   "metadata": {},
   "source": [
    "Input N3:\n",
    "\n",
    "Output N3:\n",
    "\n",
    "Input N4:\n",
    "\n",
    "Output N4:\n",
    "\n",
    "Input N5:\n",
    "\n",
    "Output N5:"
   ]
  },
  {
   "cell_type": "markdown",
   "metadata": {},
   "source": [
    "---"
   ]
  },
  {
   "cell_type": "markdown",
   "metadata": {},
   "source": [
    "### Exercise 1: Classifying Hand-Written Digits with PyTorch"
   ]
  },
  {
   "cell_type": "markdown",
   "metadata": {
    "tags": []
   },
   "source": [
    "#### Getting Started\n",
    "\n",
    "This exercise will give a short introduction into the framework PyTorch (https://pytorch.org/) to build small and large neural networks.\n",
    "\n",
    "PyTorch is an open-source deep learning framework that’s known for its flexibility and ease-of-use. This is enabled in part by its compatibility with the popular Python high-level programming language favored by machine learning developers and data scientists.\n",
    "\n",
    "##### What is PyTorch?\n",
    "\n",
    "PyTorch is a fully featured framework for building deep learning models, which is a type of machine learning that’s commonly used in applications like image recognition and language processing. Written in Python, it’s relatively easy for most machine learning developers to learn and use. PyTorch is distinctive for its excellent support for GPUs and its use of reverse-mode auto-differentiation, which enables computation graphs to be modified on the fly. This makes it a popular choice for fast experimentation and prototyping.\n",
    "\n",
    "##### Key Benefits of PyTorch\n",
    "\n",
    "- There’s a large and vibrant community at PyTorch.org community with excellent documentation and tutorials. The forums are active and supportive.\n",
    "- It’s written in Python and integrated with popular Python libraries like NumPy for scientific computing, SciPy, and Cython for compiling Python to C for better performance. Because its syntax and usage are similar to Python’s, PyTorch is relatively easy for Python developers to learn.\n",
    "- It supports CPU, GPU, and parallel processing, as well as distributed training. This meana that computational work can be distributed among multiple CPU and GPU cores, and training can be done on multiple GPUs on multiple machines.\n"
   ]
  },
  {
   "cell_type": "markdown",
   "metadata": {},
   "source": [
    "__Please install the `torch` and `torchvision` packages, ideally by following the setup guide: (https://pytorch.org/get-started/locally/).__\n"
   ]
  },
  {
   "cell_type": "markdown",
   "metadata": {
    "jp-MarkdownHeadingCollapsed": true,
    "tags": []
   },
   "source": [
    "#### More Information: \n",
    " \n",
    "You can find many resources on how to get started with PyTorch, both in written form or as videos.\n",
    "In this exercise, we want to give a brief introduction. You will learn how to:\n",
    "\n",
    "1. How to create a model. \n",
    "2. How to select an optimizer, a loss function and a metric. \n",
    "3. How to train the model on data. \n",
    "4. How to predict. "
   ]
  },
  {
   "cell_type": "markdown",
   "metadata": {},
   "source": [
    "#### Exercise 1:  Build your first small Neural Network \n",
    "\n",
    "__In this exercise we will use a Neural Network on a real data set. We will classify the digits dataset (MINST)__\n",
    "\n",
    "You are allowed to use the following packages only."
   ]
  },
  {
   "cell_type": "code",
   "execution_count": 1,
   "metadata": {},
   "outputs": [],
   "source": [
    "import torch\n",
    "import torchvision"
   ]
  },
  {
   "cell_type": "code",
   "execution_count": 2,
   "metadata": {},
   "outputs": [
    {
     "data": {
      "text/plain": [
       "<torch._C.Generator at 0x7f4ab5260790>"
      ]
     },
     "execution_count": 2,
     "metadata": {},
     "output_type": "execute_result"
    }
   ],
   "source": [
    "# You can keep the following parameters for training and testing\n",
    "n_epochs = 3\n",
    "batch_size_train = 64\n",
    "batch_size_test = 1000\n",
    "learning_rate = 0.01\n",
    "momentum = 0.5\n",
    "log_interval = 10\n",
    "\n",
    "random_seed = 1\n",
    "torch.manual_seed(random_seed)"
   ]
  },
  {
   "cell_type": "markdown",
   "metadata": {
    "tags": []
   },
   "source": [
    "##### __(a) Load the MNIST dataset via the torchvision dataset functionality. Load both the training and test data__\n",
    "_(Hint: use the `DataLoader` from torch and `datasets.MNIST` class from the torch library, Create a separate dataloader for training and testing.)_\n",
    "\n",
    "- Use a batch size of 64 for training, and 1000 for testing (You can just the parameters before)\n",
    "- You can pass a transform the PyTorch dataloaders to perform pre-processing of the data, use `torchvision.transforms.Compose` to chain the processing steps of `torchvision.transforms.ToTensor()`(converting images to PyTorch tensors) and `torchvision.transforms.Normalize((0.1307,), (0.3081,))` (normalize the data with mean and std. of the MNIST dataset)\n",
    "- Make sure to shuffle the data."
   ]
  },
  {
   "cell_type": "code",
   "execution_count": 3,
   "metadata": {},
   "outputs": [],
   "source": [
    "# Code here\n",
    "def create_loader(train: bool, batch_size: float) -> None:\n",
    "    loader = torch.utils.data.DataLoader(\n",
    "        torchvision.datasets.MNIST(\n",
    "            \"./data\",\n",
    "            train=train,\n",
    "            download=True,\n",
    "            transform=torchvision.transforms.Compose([\n",
    "                torchvision.transforms.ToTensor(),\n",
    "                torchvision.transforms.Normalize((0.1307,), (0.3081,))\n",
    "            ])\n",
    "        ),\n",
    "        batch_size=batch_size,\n",
    "        shuffle=True\n",
    "    )\n",
    "\n",
    "    return loader"
   ]
  },
  {
   "cell_type": "code",
   "execution_count": 4,
   "metadata": {},
   "outputs": [],
   "source": [
    "train_loader = create_loader(train=True, batch_size=batch_size_train)\n",
    "test_loader = create_loader(train=False, batch_size=batch_size_test)"
   ]
  },
  {
   "cell_type": "markdown",
   "metadata": {
    "tags": []
   },
   "source": [
    "##### __(b) Quickly describe what the MMNIST dataset is. If you like, you can also visualize samples from the dataset.__"
   ]
  },
  {
   "cell_type": "markdown",
   "metadata": {},
   "source": [
    "The data contains handwritten numbers with labels:"
   ]
  },
  {
   "cell_type": "code",
   "execution_count": 5,
   "metadata": {},
   "outputs": [],
   "source": [
    "import matplotlib.pyplot as plt"
   ]
  },
  {
   "cell_type": "code",
   "execution_count": 6,
   "metadata": {},
   "outputs": [
    {
     "data": {
      "image/png": "[encoded data removed]",
      "text/plain": [
       "<Figure size 640x480 with 6 Axes>"
      ]
     },
     "metadata": {},
     "output_type": "display_data"
    }
   ],
   "source": [
    "_, (example_features, example_target) = next(enumerate(test_loader))\n",
    "examples = [{\"img\": tensor[0], \"label\": label.item()} for tensor, label in zip(example_features, example_target)]\n",
    "\n",
    "fig, _ = plt.subplots(nrows=2, ncols=3)\n",
    "\n",
    "for i, ax in enumerate(fig.axes):\n",
    "  ax.imshow(examples[i][\"img\"], cmap=\"grey\")\n",
    "  ax.set_title(f\"Label: {examples[i]['label']!s}\")\n",
    "  ax.set_xticks([])\n",
    "  ax.set_yticks([])"
   ]
  },
  {
   "attachments": {},
   "cell_type": "markdown",
   "metadata": {
    "tags": []
   },
   "source": [
    "##### __(c) Create the neural network to train.__\n",
    "\n",
    "Create a network with the `torch.nn` package. The package contains many different layers with can be composed into complex neural networks.\n",
    "- Create a class `Net` that inherits from `nn.Module`.\n",
    "- Specify the layers you want to use in the `__init__(self)` method of the class.\n",
    "- Define the `forward(self, x)` to define how the output is computed given the input `x` and layers you specified in the init\n",
    "\n",
    "You have ***two options*** for your network. Choose either one:\n",
    "\n",
    "1. Use this given architecture: A CNN network architecture containing the following layers:\n",
    "- A first `Conv2d` layer with kernel size 5, 10 filters, and stride 2\n",
    "- A `nn.RELU()` activation layer\n",
    "- A second `Conv2d` layer with kernel size 5 and 20 filters, and stride 2\n",
    "- A `nn.RELU()`activation layer\n",
    "- A first fully connected (`linear`) layer with 320 input neurons and 50 output neurons\n",
    "- A final `nn.RELU()` activation layer\n",
    "- A second fully connected layer with 50 input neurons and 10 output neurons (corresponding to the number of classes)\n",
    "- A softmax layer that turns the network activations into class probabilities\n",
    "\n",
    "2. Choose and implement your own network architecture. You are completely free in choosing a architecture you build from layers of the `nn` package. As the only condition, your network should achieve a test accuracy of at least 85%."
   ]
  },
  {
   "cell_type": "code",
   "execution_count": 7,
   "metadata": {},
   "outputs": [],
   "source": [
    "import torch.nn as nn\n",
    "\n",
    "# Code here\n",
    "class Net(nn.Module):\n",
    "    def __init__(self):\n",
    "        super(Net, self).__init__()\n",
    "        self.conv1 = nn.Conv2d(1, 10, kernel_size=5)\n",
    "        self.conv2 = nn.Conv2d(10, 20, kernel_size=5)\n",
    "        self.conv2_drop = nn.Dropout2d()\n",
    "        self.fc1 = nn.Linear(320, 50)\n",
    "        self.fc2 = nn.Linear(50, 10)\n",
    "\n",
    "    def forward(self, x):\n",
    "        x = torch.nn.functional.relu(torch.nn.functional.max_pool2d(self.conv1(x), 2))\n",
    "        x = torch.nn.functional.relu(torch.nn.functional.max_pool2d(self.conv2_drop(self.conv2(x)), 2))\n",
    "        x = x.view(-1, 320)\n",
    "        x = torch.nn.functional.relu(self.fc1(x))\n",
    "        x = torch.nn.functional.dropout(x, training=self.training)\n",
    "        x = self.fc2(x)\n",
    "        return torch.nn.functional.log_softmax(x)"
   ]
  },
  {
   "cell_type": "markdown",
   "metadata": {},
   "source": [
    "##### __(d) Initialize the network (by calling the empty constructor) and create the optimizer (`optim.SGD`) by passing the network parameters.__"
   ]
  },
  {
   "cell_type": "code",
   "execution_count": 8,
   "metadata": {},
   "outputs": [],
   "source": [
    "import torch.optim as optim\n",
    "\n",
    "network = Net()\n",
    "\n",
    "# Code here: Initialize the optimizer\n",
    "optimizer = optim.SGD(network.parameters(), lr=learning_rate, momentum=momentum)"
   ]
  },
  {
   "cell_type": "markdown",
   "metadata": {
    "tags": []
   },
   "source": [
    "##### __(f) We now train the neural network on the training data set and predict the test data set. For this, we have implemented the train and test functions for you. If you did the previous task correctly, this code should run without errors.__\n",
    "\n",
    "In this exercise, you task is to understand the given code. Try to ***fill the empty comments marked by `Explanation:`*** in the following code blocks. You can use any online ressources you like as reference:"
   ]
  },
  {
   "cell_type": "code",
   "execution_count": 9,
   "metadata": {},
   "outputs": [],
   "source": [
    "train_losses = []\n",
    "train_counter = []\n",
    "test_losses = []\n",
    "test_counter = [i*len(train_loader.dataset) for i in range(n_epochs + 1)]"
   ]
  },
  {
   "cell_type": "code",
   "execution_count": 10,
   "metadata": {
    "tags": []
   },
   "outputs": [],
   "source": [
    "import torch.nn.functional as F\n",
    "\n",
    "def train(epoch): \n",
    "    network.train()\n",
    "    for batch_idx, (data, target) in enumerate(train_loader):\n",
    "        optimizer.zero_grad() # Explanation: Setting the gradients to zero\n",
    "        output = network(data)\n",
    "        loss = F.nll_loss(output, target) # Explanation: Computing negative log likelihood loss\n",
    "        loss.backward() # Explanation: Collect a set of new gradients...\n",
    "        optimizer.step() # Explanation: ...and propagate them back\n",
    "        if batch_idx % log_interval == 0:\n",
    "            print('Train Epoch: {} [{}/{} ({:.0f}%)]\\tLoss: {:.6f}'.format(\n",
    "            epoch, batch_idx * len(data), len(train_loader.dataset),\n",
    "            100. * batch_idx / len(train_loader), loss.item()))\n",
    "            train_losses.append(loss.item())\n",
    "            train_counter.append(\n",
    "            (batch_idx*64) + ((epoch-1)*len(train_loader.dataset)))"
   ]
  },
  {
   "cell_type": "code",
   "execution_count": 11,
   "metadata": {},
   "outputs": [],
   "source": [
    "def test():\n",
    "    network.eval() # Explanation: Set the module to evaluation mode (inherited from nn.Module)\n",
    "    test_loss = 0\n",
    "    correct = 0\n",
    "    with torch.no_grad(): # Explanation: Disable gradient calculation using context manager\n",
    "        for data, target in test_loader:\n",
    "            output = network(data)\n",
    "            test_loss += F.nll_loss(output, target, size_average=False).item() # Explanation: collect negative log likelihood losses from testing\n",
    "            pred = output.data.max(1, keepdim=True)[1] # Explanation: Get predictions\n",
    "            correct += pred.eq(target.data.view_as(pred)).sum()\n",
    "        test_loss /= len(test_loader.dataset)\n",
    "        test_losses.append(test_loss)\n",
    "        print('\\nTest set: Avg. loss: {:.4f}, Accuracy: {}/{} ({:.0f}%)\\n'.format(\n",
    "        test_loss, correct, len(test_loader.dataset),\n",
    "        100. * correct / len(test_loader.dataset)))"
   ]
  },
  {
   "cell_type": "markdown",
   "metadata": {},
   "source": [
    "##### __(g) Run training and testing and describe the output.__"
   ]
  },
  {
   "cell_type": "code",
   "execution_count": 12,
   "metadata": {},
   "outputs": [
    {
     "name": "stderr",
     "output_type": "stream",
     "text": [
      "/tmp/ipykernel_9074/1863849584.py:20: UserWarning: Implicit dimension choice for log_softmax has been deprecated. Change the call to include dim=X as an argument.\n",
      "  return torch.nn.functional.log_softmax(x)\n",
      "/home/kssrr/.conda/envs/DataMining/lib/python3.11/site-packages/torch/nn/_reduction.py:42: UserWarning: size_average and reduce args will be deprecated, please use reduction='sum' instead.\n",
      "  warnings.warn(warning.format(ret))\n"
     ]
    },
    {
     "name": "stdout",
     "output_type": "stream",
     "text": [
      "\n",
      "Test set: Avg. loss: 2.3096, Accuracy: 924/10000 (9%)\n",
      "\n",
      "Train Epoch: 1 [0/60000 (0%)]\tLoss: 2.313179\n",
      "Train Epoch: 1 [640/60000 (1%)]\tLoss: 2.300776\n",
      "Train Epoch: 1 [1280/60000 (2%)]\tLoss: 2.298872\n",
      "Train Epoch: 1 [1920/60000 (3%)]\tLoss: 2.276723\n",
      "Train Epoch: 1 [2560/60000 (4%)]\tLoss: 2.241102\n",
      "Train Epoch: 1 [3200/60000 (5%)]\tLoss: 2.248662\n",
      "Train Epoch: 1 [3840/60000 (6%)]\tLoss: 2.189547\n",
      "Train Epoch: 1 [4480/60000 (7%)]\tLoss: 2.146399\n",
      "Train Epoch: 1 [5120/60000 (9%)]\tLoss: 2.107701\n",
      "Train Epoch: 1 [5760/60000 (10%)]\tLoss: 2.011356\n",
      "Train Epoch: 1 [6400/60000 (11%)]\tLoss: 1.843857\n",
      "Train Epoch: 1 [7040/60000 (12%)]\tLoss: 1.758839\n",
      "Train Epoch: 1 [7680/60000 (13%)]\tLoss: 1.672644\n",
      "Train Epoch: 1 [8320/60000 (14%)]\tLoss: 1.687645\n",
      "Train Epoch: 1 [8960/60000 (15%)]\tLoss: 1.426628\n",
      "Train Epoch: 1 [9600/60000 (16%)]\tLoss: 1.284204\n",
      "Train Epoch: 1 [10240/60000 (17%)]\tLoss: 1.318824\n",
      "Train Epoch: 1 [10880/60000 (18%)]\tLoss: 1.445287\n",
      "Train Epoch: 1 [11520/60000 (19%)]\tLoss: 1.140686\n",
      "Train Epoch: 1 [12160/60000 (20%)]\tLoss: 1.152914\n",
      "Train Epoch: 1 [12800/60000 (21%)]\tLoss: 1.054201\n",
      "Train Epoch: 1 [13440/60000 (22%)]\tLoss: 0.900051\n",
      "Train Epoch: 1 [14080/60000 (23%)]\tLoss: 1.192117\n",
      "Train Epoch: 1 [14720/60000 (25%)]\tLoss: 0.944671\n",
      "Train Epoch: 1 [15360/60000 (26%)]\tLoss: 0.883143\n",
      "Train Epoch: 1 [16000/60000 (27%)]\tLoss: 0.846327\n",
      "Train Epoch: 1 [16640/60000 (28%)]\tLoss: 0.773429\n",
      "Train Epoch: 1 [17280/60000 (29%)]\tLoss: 0.760332\n",
      "Train Epoch: 1 [17920/60000 (30%)]\tLoss: 0.813500\n",
      "Train Epoch: 1 [18560/60000 (31%)]\tLoss: 0.890023\n",
      "Train Epoch: 1 [19200/60000 (32%)]\tLoss: 0.797666\n",
      "Train Epoch: 1 [19840/60000 (33%)]\tLoss: 0.903690\n",
      "Train Epoch: 1 [20480/60000 (34%)]\tLoss: 0.582573\n",
      "Train Epoch: 1 [21120/60000 (35%)]\tLoss: 0.689915\n",
      "Train Epoch: 1 [21760/60000 (36%)]\tLoss: 0.625788\n",
      "Train Epoch: 1 [22400/60000 (37%)]\tLoss: 0.770130\n",
      "Train Epoch: 1 [23040/60000 (38%)]\tLoss: 0.728703\n",
      "Train Epoch: 1 [23680/60000 (39%)]\tLoss: 0.634287\n",
      "Train Epoch: 1 [24320/60000 (41%)]\tLoss: 0.662664\n",
      "Train Epoch: 1 [24960/60000 (42%)]\tLoss: 0.837865\n",
      "Train Epoch: 1 [25600/60000 (43%)]\tLoss: 0.864284\n",
      "Train Epoch: 1 [26240/60000 (44%)]\tLoss: 0.624227\n",
      "Train Epoch: 1 [26880/60000 (45%)]\tLoss: 0.626281\n",
      "Train Epoch: 1 [27520/60000 (46%)]\tLoss: 0.678808\n",
      "Train Epoch: 1 [28160/60000 (47%)]\tLoss: 0.598430\n",
      "Train Epoch: 1 [28800/60000 (48%)]\tLoss: 0.549286\n",
      "Train Epoch: 1 [29440/60000 (49%)]\tLoss: 0.827346\n",
      "Train Epoch: 1 [30080/60000 (50%)]\tLoss: 0.739455\n",
      "Train Epoch: 1 [30720/60000 (51%)]\tLoss: 0.627517\n",
      "Train Epoch: 1 [31360/60000 (52%)]\tLoss: 0.646752\n",
      "Train Epoch: 1 [32000/60000 (53%)]\tLoss: 0.713839\n",
      "Train Epoch: 1 [32640/60000 (54%)]\tLoss: 0.442789\n",
      "Train Epoch: 1 [33280/60000 (55%)]\tLoss: 0.586857\n",
      "Train Epoch: 1 [33920/60000 (57%)]\tLoss: 0.571785\n",
      "Train Epoch: 1 [34560/60000 (58%)]\tLoss: 0.667452\n",
      "Train Epoch: 1 [35200/60000 (59%)]\tLoss: 0.574819\n",
      "Train Epoch: 1 [35840/60000 (60%)]\tLoss: 0.569871\n",
      "Train Epoch: 1 [36480/60000 (61%)]\tLoss: 0.619394\n",
      "Train Epoch: 1 [37120/60000 (62%)]\tLoss: 0.812100\n",
      "Train Epoch: 1 [37760/60000 (63%)]\tLoss: 0.572439\n",
      "Train Epoch: 1 [38400/60000 (64%)]\tLoss: 0.625037\n",
      "Train Epoch: 1 [39040/60000 (65%)]\tLoss: 0.541434\n",
      "Train Epoch: 1 [39680/60000 (66%)]\tLoss: 0.607958\n",
      "Train Epoch: 1 [40320/60000 (67%)]\tLoss: 0.321159\n",
      "Train Epoch: 1 [40960/60000 (68%)]\tLoss: 0.336282\n",
      "Train Epoch: 1 [41600/60000 (69%)]\tLoss: 0.383129\n",
      "Train Epoch: 1 [42240/60000 (70%)]\tLoss: 0.305445\n",
      "Train Epoch: 1 [42880/60000 (71%)]\tLoss: 0.417283\n",
      "Train Epoch: 1 [43520/60000 (72%)]\tLoss: 0.435527\n",
      "Train Epoch: 1 [44160/60000 (74%)]\tLoss: 0.460866\n",
      "Train Epoch: 1 [44800/60000 (75%)]\tLoss: 0.606783\n",
      "Train Epoch: 1 [45440/60000 (76%)]\tLoss: 0.530728\n",
      "Train Epoch: 1 [46080/60000 (77%)]\tLoss: 0.524767\n",
      "Train Epoch: 1 [46720/60000 (78%)]\tLoss: 0.376800\n",
      "Train Epoch: 1 [47360/60000 (79%)]\tLoss: 0.498110\n",
      "Train Epoch: 1 [48000/60000 (80%)]\tLoss: 0.552927\n",
      "Train Epoch: 1 [48640/60000 (81%)]\tLoss: 0.421905\n",
      "Train Epoch: 1 [49280/60000 (82%)]\tLoss: 0.389219\n",
      "Train Epoch: 1 [49920/60000 (83%)]\tLoss: 0.515447\n",
      "Train Epoch: 1 [50560/60000 (84%)]\tLoss: 0.428752\n",
      "Train Epoch: 1 [51200/60000 (85%)]\tLoss: 0.690309\n",
      "Train Epoch: 1 [51840/60000 (86%)]\tLoss: 0.505888\n",
      "Train Epoch: 1 [52480/60000 (87%)]\tLoss: 0.678269\n",
      "Train Epoch: 1 [53120/60000 (88%)]\tLoss: 0.542039\n",
      "Train Epoch: 1 [53760/60000 (90%)]\tLoss: 0.547651\n",
      "Train Epoch: 1 [54400/60000 (91%)]\tLoss: 0.641251\n",
      "Train Epoch: 1 [55040/60000 (92%)]\tLoss: 0.459625\n",
      "Train Epoch: 1 [55680/60000 (93%)]\tLoss: 0.546163\n",
      "Train Epoch: 1 [56320/60000 (94%)]\tLoss: 0.551967\n",
      "Train Epoch: 1 [56960/60000 (95%)]\tLoss: 0.364066\n",
      "Train Epoch: 1 [57600/60000 (96%)]\tLoss: 0.314082\n",
      "Train Epoch: 1 [58240/60000 (97%)]\tLoss: 0.296858\n",
      "Train Epoch: 1 [58880/60000 (98%)]\tLoss: 0.720081\n",
      "Train Epoch: 1 [59520/60000 (99%)]\tLoss: 0.384390\n",
      "\n",
      "Test set: Avg. loss: 0.1851, Accuracy: 9439/10000 (94%)\n",
      "\n",
      "Train Epoch: 2 [0/60000 (0%)]\tLoss: 0.444480\n",
      "Train Epoch: 2 [640/60000 (1%)]\tLoss: 0.437509\n",
      "Train Epoch: 2 [1280/60000 (2%)]\tLoss: 0.501740\n",
      "Train Epoch: 2 [1920/60000 (3%)]\tLoss: 0.516369\n",
      "Train Epoch: 2 [2560/60000 (4%)]\tLoss: 0.305827\n",
      "Train Epoch: 2 [3200/60000 (5%)]\tLoss: 0.169802\n",
      "Train Epoch: 2 [3840/60000 (6%)]\tLoss: 0.485014\n",
      "Train Epoch: 2 [4480/60000 (7%)]\tLoss: 0.415766\n",
      "Train Epoch: 2 [5120/60000 (9%)]\tLoss: 0.387655\n",
      "Train Epoch: 2 [5760/60000 (10%)]\tLoss: 0.640703\n",
      "Train Epoch: 2 [6400/60000 (11%)]\tLoss: 0.561773\n",
      "Train Epoch: 2 [7040/60000 (12%)]\tLoss: 0.306640\n",
      "Train Epoch: 2 [7680/60000 (13%)]\tLoss: 0.436025\n",
      "Train Epoch: 2 [8320/60000 (14%)]\tLoss: 0.642939\n",
      "Train Epoch: 2 [8960/60000 (15%)]\tLoss: 0.483507\n",
      "Train Epoch: 2 [9600/60000 (16%)]\tLoss: 0.444930\n",
      "Train Epoch: 2 [10240/60000 (17%)]\tLoss: 0.313617\n",
      "Train Epoch: 2 [10880/60000 (18%)]\tLoss: 0.505190\n",
      "Train Epoch: 2 [11520/60000 (19%)]\tLoss: 0.324537\n",
      "Train Epoch: 2 [12160/60000 (20%)]\tLoss: 0.315872\n",
      "Train Epoch: 2 [12800/60000 (21%)]\tLoss: 0.482968\n",
      "Train Epoch: 2 [13440/60000 (22%)]\tLoss: 0.472129\n",
      "Train Epoch: 2 [14080/60000 (23%)]\tLoss: 0.483293\n",
      "Train Epoch: 2 [14720/60000 (25%)]\tLoss: 0.377954\n",
      "Train Epoch: 2 [15360/60000 (26%)]\tLoss: 0.213744\n",
      "Train Epoch: 2 [16000/60000 (27%)]\tLoss: 0.249487\n",
      "Train Epoch: 2 [16640/60000 (28%)]\tLoss: 0.359382\n",
      "Train Epoch: 2 [17280/60000 (29%)]\tLoss: 0.435585\n",
      "Train Epoch: 2 [17920/60000 (30%)]\tLoss: 0.318835\n",
      "Train Epoch: 2 [18560/60000 (31%)]\tLoss: 0.340286\n",
      "Train Epoch: 2 [19200/60000 (32%)]\tLoss: 0.480659\n",
      "Train Epoch: 2 [19840/60000 (33%)]\tLoss: 0.352848\n",
      "Train Epoch: 2 [20480/60000 (34%)]\tLoss: 0.378306\n",
      "Train Epoch: 2 [21120/60000 (35%)]\tLoss: 0.349167\n",
      "Train Epoch: 2 [21760/60000 (36%)]\tLoss: 0.494930\n",
      "Train Epoch: 2 [22400/60000 (37%)]\tLoss: 0.611937\n",
      "Train Epoch: 2 [23040/60000 (38%)]\tLoss: 0.480238\n",
      "Train Epoch: 2 [23680/60000 (39%)]\tLoss: 0.334591\n",
      "Train Epoch: 2 [24320/60000 (41%)]\tLoss: 0.402524\n",
      "Train Epoch: 2 [24960/60000 (42%)]\tLoss: 0.213737\n",
      "Train Epoch: 2 [25600/60000 (43%)]\tLoss: 0.196010\n",
      "Train Epoch: 2 [26240/60000 (44%)]\tLoss: 0.392743\n",
      "Train Epoch: 2 [26880/60000 (45%)]\tLoss: 0.296780\n",
      "Train Epoch: 2 [27520/60000 (46%)]\tLoss: 0.219876\n",
      "Train Epoch: 2 [28160/60000 (47%)]\tLoss: 0.176424\n",
      "Train Epoch: 2 [28800/60000 (48%)]\tLoss: 0.257070\n",
      "Train Epoch: 2 [29440/60000 (49%)]\tLoss: 0.524216\n",
      "Train Epoch: 2 [30080/60000 (50%)]\tLoss: 0.286079\n",
      "Train Epoch: 2 [30720/60000 (51%)]\tLoss: 0.307145\n",
      "Train Epoch: 2 [31360/60000 (52%)]\tLoss: 0.432912\n",
      "Train Epoch: 2 [32000/60000 (53%)]\tLoss: 0.688185\n",
      "Train Epoch: 2 [32640/60000 (54%)]\tLoss: 0.303778\n",
      "Train Epoch: 2 [33280/60000 (55%)]\tLoss: 0.260636\n",
      "Train Epoch: 2 [33920/60000 (57%)]\tLoss: 0.436145\n",
      "Train Epoch: 2 [34560/60000 (58%)]\tLoss: 0.396234\n",
      "Train Epoch: 2 [35200/60000 (59%)]\tLoss: 0.431730\n",
      "Train Epoch: 2 [35840/60000 (60%)]\tLoss: 0.471365\n",
      "Train Epoch: 2 [36480/60000 (61%)]\tLoss: 0.344705\n",
      "Train Epoch: 2 [37120/60000 (62%)]\tLoss: 0.491726\n",
      "Train Epoch: 2 [37760/60000 (63%)]\tLoss: 0.442302\n",
      "Train Epoch: 2 [38400/60000 (64%)]\tLoss: 0.273526\n",
      "Train Epoch: 2 [39040/60000 (65%)]\tLoss: 0.202230\n",
      "Train Epoch: 2 [39680/60000 (66%)]\tLoss: 0.412607\n",
      "Train Epoch: 2 [40320/60000 (67%)]\tLoss: 0.206846\n",
      "Train Epoch: 2 [40960/60000 (68%)]\tLoss: 0.505431\n",
      "Train Epoch: 2 [41600/60000 (69%)]\tLoss: 0.142197\n",
      "Train Epoch: 2 [42240/60000 (70%)]\tLoss: 0.347460\n",
      "Train Epoch: 2 [42880/60000 (71%)]\tLoss: 0.464612\n",
      "Train Epoch: 2 [43520/60000 (72%)]\tLoss: 0.284601\n",
      "Train Epoch: 2 [44160/60000 (74%)]\tLoss: 0.391007\n",
      "Train Epoch: 2 [44800/60000 (75%)]\tLoss: 0.222998\n",
      "Train Epoch: 2 [45440/60000 (76%)]\tLoss: 0.495548\n",
      "Train Epoch: 2 [46080/60000 (77%)]\tLoss: 0.268582\n",
      "Train Epoch: 2 [46720/60000 (78%)]\tLoss: 0.279871\n",
      "Train Epoch: 2 [47360/60000 (79%)]\tLoss: 0.199523\n",
      "Train Epoch: 2 [48000/60000 (80%)]\tLoss: 0.247395\n",
      "Train Epoch: 2 [48640/60000 (81%)]\tLoss: 0.372159\n",
      "Train Epoch: 2 [49280/60000 (82%)]\tLoss: 0.470717\n",
      "Train Epoch: 2 [49920/60000 (83%)]\tLoss: 0.279410\n",
      "Train Epoch: 2 [50560/60000 (84%)]\tLoss: 0.331522\n",
      "Train Epoch: 2 [51200/60000 (85%)]\tLoss: 0.421120\n",
      "Train Epoch: 2 [51840/60000 (86%)]\tLoss: 0.294168\n",
      "Train Epoch: 2 [52480/60000 (87%)]\tLoss: 0.337764\n",
      "Train Epoch: 2 [53120/60000 (88%)]\tLoss: 0.250939\n",
      "Train Epoch: 2 [53760/60000 (90%)]\tLoss: 0.238839\n",
      "Train Epoch: 2 [54400/60000 (91%)]\tLoss: 0.198603\n",
      "Train Epoch: 2 [55040/60000 (92%)]\tLoss: 0.483544\n",
      "Train Epoch: 2 [55680/60000 (93%)]\tLoss: 0.196907\n",
      "Train Epoch: 2 [56320/60000 (94%)]\tLoss: 0.376675\n",
      "Train Epoch: 2 [56960/60000 (95%)]\tLoss: 0.226886\n",
      "Train Epoch: 2 [57600/60000 (96%)]\tLoss: 0.555483\n",
      "Train Epoch: 2 [58240/60000 (97%)]\tLoss: 0.475328\n",
      "Train Epoch: 2 [58880/60000 (98%)]\tLoss: 0.272094\n",
      "Train Epoch: 2 [59520/60000 (99%)]\tLoss: 0.270495\n",
      "\n",
      "Test set: Avg. loss: 0.1157, Accuracy: 9636/10000 (96%)\n",
      "\n",
      "Train Epoch: 3 [0/60000 (0%)]\tLoss: 0.213210\n",
      "Train Epoch: 3 [640/60000 (1%)]\tLoss: 0.243381\n",
      "Train Epoch: 3 [1280/60000 (2%)]\tLoss: 0.396473\n",
      "Train Epoch: 3 [1920/60000 (3%)]\tLoss: 0.248544\n",
      "Train Epoch: 3 [2560/60000 (4%)]\tLoss: 0.253532\n",
      "Train Epoch: 3 [3200/60000 (5%)]\tLoss: 0.321081\n",
      "Train Epoch: 3 [3840/60000 (6%)]\tLoss: 0.281355\n",
      "Train Epoch: 3 [4480/60000 (7%)]\tLoss: 0.489574\n",
      "Train Epoch: 3 [5120/60000 (9%)]\tLoss: 0.490400\n",
      "Train Epoch: 3 [5760/60000 (10%)]\tLoss: 0.396165\n",
      "Train Epoch: 3 [6400/60000 (11%)]\tLoss: 0.316803\n",
      "Train Epoch: 3 [7040/60000 (12%)]\tLoss: 0.340903\n",
      "Train Epoch: 3 [7680/60000 (13%)]\tLoss: 0.250501\n",
      "Train Epoch: 3 [8320/60000 (14%)]\tLoss: 0.159287\n",
      "Train Epoch: 3 [8960/60000 (15%)]\tLoss: 0.266910\n",
      "Train Epoch: 3 [9600/60000 (16%)]\tLoss: 0.246092\n",
      "Train Epoch: 3 [10240/60000 (17%)]\tLoss: 0.279125\n",
      "Train Epoch: 3 [10880/60000 (18%)]\tLoss: 0.291477\n",
      "Train Epoch: 3 [11520/60000 (19%)]\tLoss: 0.426137\n",
      "Train Epoch: 3 [12160/60000 (20%)]\tLoss: 0.228294\n",
      "Train Epoch: 3 [12800/60000 (21%)]\tLoss: 0.434623\n",
      "Train Epoch: 3 [13440/60000 (22%)]\tLoss: 0.343000\n",
      "Train Epoch: 3 [14080/60000 (23%)]\tLoss: 0.351710\n",
      "Train Epoch: 3 [14720/60000 (25%)]\tLoss: 0.309330\n",
      "Train Epoch: 3 [15360/60000 (26%)]\tLoss: 0.327750\n",
      "Train Epoch: 3 [16000/60000 (27%)]\tLoss: 0.806788\n",
      "Train Epoch: 3 [16640/60000 (28%)]\tLoss: 0.538811\n",
      "Train Epoch: 3 [17280/60000 (29%)]\tLoss: 0.451883\n",
      "Train Epoch: 3 [17920/60000 (30%)]\tLoss: 0.309918\n",
      "Train Epoch: 3 [18560/60000 (31%)]\tLoss: 0.309310\n",
      "Train Epoch: 3 [19200/60000 (32%)]\tLoss: 0.328733\n",
      "Train Epoch: 3 [19840/60000 (33%)]\tLoss: 0.377194\n",
      "Train Epoch: 3 [20480/60000 (34%)]\tLoss: 0.188991\n",
      "Train Epoch: 3 [21120/60000 (35%)]\tLoss: 0.181786\n",
      "Train Epoch: 3 [21760/60000 (36%)]\tLoss: 0.338287\n",
      "Train Epoch: 3 [22400/60000 (37%)]\tLoss: 0.217504\n",
      "Train Epoch: 3 [23040/60000 (38%)]\tLoss: 0.452669\n",
      "Train Epoch: 3 [23680/60000 (39%)]\tLoss: 0.201506\n",
      "Train Epoch: 3 [24320/60000 (41%)]\tLoss: 0.256648\n",
      "Train Epoch: 3 [24960/60000 (42%)]\tLoss: 0.168570\n",
      "Train Epoch: 3 [25600/60000 (43%)]\tLoss: 0.412645\n",
      "Train Epoch: 3 [26240/60000 (44%)]\tLoss: 0.187938\n",
      "Train Epoch: 3 [26880/60000 (45%)]\tLoss: 0.198948\n",
      "Train Epoch: 3 [27520/60000 (46%)]\tLoss: 0.205817\n",
      "Train Epoch: 3 [28160/60000 (47%)]\tLoss: 0.333527\n",
      "Train Epoch: 3 [28800/60000 (48%)]\tLoss: 0.495407\n",
      "Train Epoch: 3 [29440/60000 (49%)]\tLoss: 0.167081\n",
      "Train Epoch: 3 [30080/60000 (50%)]\tLoss: 0.276563\n",
      "Train Epoch: 3 [30720/60000 (51%)]\tLoss: 0.244706\n",
      "Train Epoch: 3 [31360/60000 (52%)]\tLoss: 0.221972\n",
      "Train Epoch: 3 [32000/60000 (53%)]\tLoss: 0.428784\n",
      "Train Epoch: 3 [32640/60000 (54%)]\tLoss: 0.325810\n",
      "Train Epoch: 3 [33280/60000 (55%)]\tLoss: 0.156525\n",
      "Train Epoch: 3 [33920/60000 (57%)]\tLoss: 0.407435\n",
      "Train Epoch: 3 [34560/60000 (58%)]\tLoss: 0.243689\n",
      "Train Epoch: 3 [35200/60000 (59%)]\tLoss: 0.332295\n",
      "Train Epoch: 3 [35840/60000 (60%)]\tLoss: 0.477335\n",
      "Train Epoch: 3 [36480/60000 (61%)]\tLoss: 0.176598\n",
      "Train Epoch: 3 [37120/60000 (62%)]\tLoss: 0.207288\n",
      "Train Epoch: 3 [37760/60000 (63%)]\tLoss: 0.319796\n",
      "Train Epoch: 3 [38400/60000 (64%)]\tLoss: 0.467162\n",
      "Train Epoch: 3 [39040/60000 (65%)]\tLoss: 0.352593\n",
      "Train Epoch: 3 [39680/60000 (66%)]\tLoss: 0.200324\n",
      "Train Epoch: 3 [40320/60000 (67%)]\tLoss: 0.225438\n",
      "Train Epoch: 3 [40960/60000 (68%)]\tLoss: 0.465795\n",
      "Train Epoch: 3 [41600/60000 (69%)]\tLoss: 0.352400\n",
      "Train Epoch: 3 [42240/60000 (70%)]\tLoss: 0.369223\n",
      "Train Epoch: 3 [42880/60000 (71%)]\tLoss: 0.177943\n",
      "Train Epoch: 3 [43520/60000 (72%)]\tLoss: 0.237117\n",
      "Train Epoch: 3 [44160/60000 (74%)]\tLoss: 0.307958\n",
      "Train Epoch: 3 [44800/60000 (75%)]\tLoss: 0.166760\n",
      "Train Epoch: 3 [45440/60000 (76%)]\tLoss: 0.233978\n",
      "Train Epoch: 3 [46080/60000 (77%)]\tLoss: 0.349898\n",
      "Train Epoch: 3 [46720/60000 (78%)]\tLoss: 0.195583\n",
      "Train Epoch: 3 [47360/60000 (79%)]\tLoss: 0.366396\n",
      "Train Epoch: 3 [48000/60000 (80%)]\tLoss: 0.340438\n",
      "Train Epoch: 3 [48640/60000 (81%)]\tLoss: 0.225309\n",
      "Train Epoch: 3 [49280/60000 (82%)]\tLoss: 0.237002\n",
      "Train Epoch: 3 [49920/60000 (83%)]\tLoss: 0.497577\n",
      "Train Epoch: 3 [50560/60000 (84%)]\tLoss: 0.427158\n",
      "Train Epoch: 3 [51200/60000 (85%)]\tLoss: 0.419467\n",
      "Train Epoch: 3 [51840/60000 (86%)]\tLoss: 0.233683\n",
      "Train Epoch: 3 [52480/60000 (87%)]\tLoss: 0.486223\n",
      "Train Epoch: 3 [53120/60000 (88%)]\tLoss: 0.238938\n",
      "Train Epoch: 3 [53760/60000 (90%)]\tLoss: 0.182187\n",
      "Train Epoch: 3 [54400/60000 (91%)]\tLoss: 0.411183\n",
      "Train Epoch: 3 [55040/60000 (92%)]\tLoss: 0.289803\n",
      "Train Epoch: 3 [55680/60000 (93%)]\tLoss: 0.203856\n",
      "Train Epoch: 3 [56320/60000 (94%)]\tLoss: 0.283026\n",
      "Train Epoch: 3 [56960/60000 (95%)]\tLoss: 0.348737\n",
      "Train Epoch: 3 [57600/60000 (96%)]\tLoss: 0.510823\n",
      "Train Epoch: 3 [58240/60000 (97%)]\tLoss: 0.392564\n",
      "Train Epoch: 3 [58880/60000 (98%)]\tLoss: 0.121047\n",
      "Train Epoch: 3 [59520/60000 (99%)]\tLoss: 0.314281\n",
      "\n",
      "Test set: Avg. loss: 0.0995, Accuracy: 9683/10000 (97%)\n",
      "\n"
     ]
    }
   ],
   "source": [
    "# Your implementation should be compatible with the following code\n",
    "\n",
    "test()\n",
    "for epoch in range(1, n_epochs + 1):\n",
    "    train(epoch)\n",
    "    test()"
   ]
  },
  {
   "cell_type": "markdown",
   "metadata": {},
   "source": [
    "##### __(g) We have saved traning statistics in the train_losses/test_losses lists. Plot the training and test accuracy values during training. You can use any plotting library, e.g. matplotlib or seaborn.__"
   ]
  },
  {
   "cell_type": "code",
   "execution_count": 13,
   "metadata": {},
   "outputs": [
    {
     "data": {
      "text/plain": [
       "Text(0, 0.5, 'Loss')"
      ]
     },
     "execution_count": 13,
     "metadata": {},
     "output_type": "execute_result"
    },
    {
     "data": {
      "image/png": "[encoded data removed]",
      "text/plain": [
       "<Figure size 640x480 with 1 Axes>"
      ]
     },
     "metadata": {},
     "output_type": "display_data"
    }
   ],
   "source": [
    "import matplotlib.pyplot as plt\n",
    "\n",
    "# Code here\n",
    "plt.plot(train_counter, train_losses)\n",
    "plt.plot(test_counter, test_losses, color=\"orange\")\n",
    "plt.scatter(test_counter, test_losses, color=\"orange\")\n",
    "plt.legend(['Train Loss', 'Test Loss'], loc='upper right')\n",
    "plt.xlabel('Training Examples')\n",
    "plt.ylabel('Loss')"
   ]
  },
  {
   "cell_type": "markdown",
   "metadata": {},
   "source": [
    "***Interpret the results***\n",
    "\n",
    "Answer here"
   ]
  },
  {
   "cell_type": "markdown",
   "metadata": {},
   "source": [
    "```\n",
    "> Your Answer\n",
    "```"
   ]
  },
  {
   "cell_type": "markdown",
   "metadata": {},
   "source": [
    "The loss for both training and testing data decreases as the number of \"seen\" training examples increases."
   ]
  },
  {
   "cell_type": "markdown",
   "metadata": {},
   "source": [
    "#### Exercise 2: Use all the transformers"
   ]
  },
  {
   "cell_type": "markdown",
   "metadata": {},
   "source": [
    "As we learned in the lecture, nowadays, transformers are the way to go.    \n",
    "Large language models such as GPT2 and GPT3 are currently state-of-the-art for a lot of natural language processing.  \n",
    "Now, we want to look at how hard or easy it is to work with these models.  \n",
    "So, we start with a smaller model, the [GPT2 model](https://cdn.openai.com/better-language-models/language_models_are_unsupervised_multitask_learners.pdf), and use it for some text generation using the hugging face (https://huggingface.co/) [packaging](https://huggingface.co/docs/transformers/model_doc/gpt2)."
   ]
  },
  {
   "cell_type": "markdown",
   "metadata": {},
   "source": [
    "__Please install the `transformers` packages, ideally by following the setup guide: (https://huggingface.co/docs/transformers/installation).__\n"
   ]
  },
  {
   "cell_type": "markdown",
   "metadata": {},
   "source": [
    "##### __a) Load the `gpt2` (https://huggingface.co/gpt2) model from the `transformers` package and generate some follow up to 'Hi, I am a transformer, I can'.__"
   ]
  },
  {
   "cell_type": "code",
   "execution_count": 14,
   "metadata": {},
   "outputs": [
    {
     "name": "stderr",
     "output_type": "stream",
     "text": [
      "Setting `pad_token_id` to `eos_token_id`:50256 for open-end generation.\n"
     ]
    },
    {
     "data": {
      "text/plain": [
       "[{'generated_text': \"Hi, I am a transformer, I can't be bothered to talk about it. But I do have some questions. In a particular case, the transformer that I have is very expensive and needs to be replaced, a transformer that is in very good\"},\n",
       " {'generated_text': \"Hi, I am a transformer, I can blow some stuff up without damaging the environment.\\n\\nI am happy with my choice of material and in other ways. It gives me something to say. The fact is my hair isn't made of rubber\"},\n",
       " {'generated_text': 'Hi, I am a transformer, I can do anything I want. I am a woman but the only reason I stay in this body is because I love your body and it would be like a dream come true. I want you to go in front'},\n",
       " {'generated_text': \"Hi, I am a transformer, I can also transform anything and everything, in any way of use. It is, however, up to you to define your use case. Most people won't be able to see what you actually do, but it\"},\n",
       " {'generated_text': \"Hi, I am a transformer, I can't believe your business never works for you! If it works for you, then how about I make yours? [laughs]\\n\\nI feel bad about this thing though, they will stop. You may\"}]"
      ]
     },
     "execution_count": 14,
     "metadata": {},
     "output_type": "execute_result"
    }
   ],
   "source": [
    "# Code here\n",
    "from transformers import pipeline\n",
    "\n",
    "generator = pipeline(\"text-generation\", model=\"gpt2\")\n",
    "generator(\"Hi, I am a transformer, I can\", num_return_sequences=5)"
   ]
  },
  {
   "cell_type": "markdown",
   "metadata": {},
   "source": [
    "##### __b) Use your previous code and change the `temperature`. Which changes do you see?__\n",
    "_(Hint: use the `temperature` keyword parameter in the `generator` to achieve this.)_"
   ]
  },
  {
   "cell_type": "code",
   "execution_count": 15,
   "metadata": {},
   "outputs": [
    {
     "name": "stderr",
     "output_type": "stream",
     "text": [
      "Setting `pad_token_id` to `eos_token_id`:50256 for open-end generation.\n"
     ]
    },
    {
     "data": {
      "text/plain": [
       "[{'generated_text': \"Hi, I am a transformer, I can't tell you how many times I have to explain to my wife that I am a transformer. I am a transformer, I can't tell you how many times I have to explain to my wife that I\"},\n",
       " {'generated_text': \"Hi, I am a transformer, I can't do anything about it. I am a transformer. I am a transformer. I am a transformer. I am a transformer. I am a transformer. I am a transformer. I am a transformer.\"},\n",
       " {'generated_text': \"Hi, I am a transformer, I can't be bothered to do anything. I am a transformer, I can't be bothered to do anything.\\n\\nI am a transformer, I can't be bothered to do anything.\\n\\nI am\"},\n",
       " {'generated_text': \"Hi, I am a transformer, I can't do anything about it. I'm not going to do anything about it. I'm not going to do anything about it. I'm not going to do anything about it. I'm not going to\"},\n",
       " {'generated_text': \"Hi, I am a transformer, I can't do anything about it. I am a transformer, I can't do anything about it. I am a transformer, I can't do anything about it. I am a transformer, I can't do\"}]"
      ]
     },
     "execution_count": 15,
     "metadata": {},
     "output_type": "execute_result"
    }
   ],
   "source": [
    "# Code here\n",
    "generator(\"Hi, I am a transformer, I can\", num_return_sequences=5, temperature=0.1)"
   ]
  },
  {
   "cell_type": "markdown",
   "metadata": {},
   "source": [
    "```\n",
    "> Your Answer\n",
    "```"
   ]
  },
  {
   "cell_type": "markdown",
   "metadata": {},
   "source": [
    "The generated outputs seem to converge more, including many very similar or identical formulations."
   ]
  }
 ],
 "metadata": {
  "kernelspec": {
   "display_name": "Python 3 (ipykernel)",
   "language": "python",
   "name": "python3"
  },
  "language_info": {
   "codemirror_mode": {
    "name": "ipython",
    "version": 3
   },
   "file_extension": ".py",
   "mimetype": "text/x-python",
   "name": "python",
   "nbconvert_exporter": "python",
   "pygments_lexer": "ipython3",
   "version": "3.11.5"
  }
 },
 "nbformat": 4,
 "nbformat_minor": 4
}
