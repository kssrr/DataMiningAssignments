{
 "cells": [
  {
   "cell_type": "markdown",
   "metadata": {
    "id": "bsbQADs9X8Om"
   },
   "source": [
    "Data Mining: Basic Concepts - Winter 2023/24\n",
    "---------------\n",
    "``` \n",
    "> University of Konstanz \n",
    "> Department of Computer and Information Science\n",
    "> Maximilian T. Fischer, Frederik Dennig, Yannick Metz, Udo Schlegel\n",
    "```\n",
    "__Organize in teams of 2 people, return the exercise on time using ILIAS__"
   ]
  },
  {
   "cell_type": "markdown",
   "metadata": {
    "id": "oPhBTvhEX8Or"
   },
   "source": [
    "---"
   ]
  },
  {
   "cell_type": "markdown",
   "metadata": {
    "id": "lHnIFOe0X8Ot"
   },
   "source": [
    "Assignment 10 in Python \n",
    "---------------\n",
    "- ___Please put your names and student IDs here___:\n",
    "    - _Name_, _Student ID_\n",
    "    - _Name_, _Student ID_"
   ]
  },
  {
   "cell_type": "markdown",
   "metadata": {
    "id": "0SWbkLMFX8Ou"
   },
   "source": [
    "---"
   ]
  },
  {
   "cell_type": "markdown",
   "metadata": {
    "id": "hxtmdWPNX8Ov"
   },
   "source": [
    "#### Exercise 1: Cluster Quality \n",
    "\n",
    "In Ilias you can find the dataset \"assign09-1.csv\". Download it and load the data. For this exercise you will need the following imports."
   ]
  },
  {
   "cell_type": "code",
   "execution_count": null,
   "metadata": {
    "id": "oa9TayBbX8Ow"
   },
   "outputs": [],
   "source": [
    "import pandas as pd \n",
    "import numpy as np \n",
    "import matplotlib.pyplot as plt\n",
    "from sklearn.cluster import KMeans\n",
    "from sklearn.metrics import silhouette_samples, silhouette_score"
   ]
  },
  {
   "cell_type": "code",
   "execution_count": null,
   "metadata": {
    "id": "KbUpF4RfX8Ox"
   },
   "outputs": [],
   "source": [
    "df = pd.read_csv('assign09-1.csv')"
   ]
  },
  {
   "cell_type": "markdown",
   "metadata": {
    "id": "pHkZ5hA7X8Ox"
   },
   "source": [
    "##### __(a) Cluster  the  data  using  the  K-means algorithm. Do this three times, two clusters (k = 2), three clusters (k = 3.), and five clusters (k = 5).__\n",
    "\n",
    "_(Hint: Set the parameter of k-means to `random_state=0`. And, of course, don't forget to rescale the data, if it is needed.)_"
   ]
  },
  {
   "cell_type": "code",
   "execution_count": null,
   "metadata": {},
   "outputs": [],
   "source": []
  },
  {
   "cell_type": "markdown",
   "metadata": {
    "id": "-BdVLtTrX8Oz"
   },
   "source": [
    "##### __(b) Calculate the silhouette coefficient for both of your cluster results (`k=2`, `k=3`, and `k=5`). Decide which clustering is better based on your result.__"
   ]
  },
  {
   "cell_type": "code",
   "execution_count": null,
   "metadata": {},
   "outputs": [],
   "source": []
  },
  {
   "cell_type": "markdown",
   "metadata": {},
   "source": [
    "```\n",
    "> Your solution\n",
    "```"
   ]
  },
  {
   "cell_type": "markdown",
   "metadata": {
    "id": "yPqq9PyxX8O1"
   },
   "source": [
    "##### __(c) The cluster library allows you to get the silhouette for each individual data points. If a data point has a low silhouette, it is likely not clustered very well. For your clusterings (`k = 2`, `k = 3` and `k = 5`), plot the whole dataset in a scatterplot and color all data points with a silhouette of less than `0.5`.__"
   ]
  },
  {
   "cell_type": "code",
   "execution_count": null,
   "metadata": {},
   "outputs": [],
   "source": []
  },
  {
   "cell_type": "markdown",
   "metadata": {},
   "source": [
    "##### __(d) Describe and reason about the results of (c). Link the findings of (c) to your choice of clustering in (b) regarding the highlighted points.__"
   ]
  },
  {
   "cell_type": "markdown",
   "metadata": {},
   "source": [
    "```\n",
    "> Your solution\n",
    "```"
   ]
  },
  {
   "cell_type": "markdown",
   "metadata": {
    "id": "15r7IqfmX8O5"
   },
   "source": [
    "---"
   ]
  },
  {
   "cell_type": "markdown",
   "metadata": {},
   "source": [
    "#### Exercise 2: k-means VS k-medoids "
   ]
  },
  {
   "cell_type": "markdown",
   "metadata": {},
   "source": [
    "In Ilias you can find the dataset \"assign09-2.csv\". Download it and load the data. For this exercise you will need the following imports."
   ]
  },
  {
   "cell_type": "code",
   "execution_count": null,
   "metadata": {},
   "outputs": [],
   "source": [
    "!pip install scikit-learn-extra\n",
    "from sklearn_extra.cluster import KMedoids\n",
    "from sklearn.cluster import KMeans"
   ]
  },
  {
   "cell_type": "code",
   "execution_count": null,
   "metadata": {},
   "outputs": [],
   "source": [
    "df = pd.read_csv('assign09-2.csv')"
   ]
  },
  {
   "cell_type": "markdown",
   "metadata": {},
   "source": [
    "__(a) Cluster  the  data  using  the  *K-means* algorithm with `k=3` and plot the result.__"
   ]
  },
  {
   "cell_type": "code",
   "execution_count": null,
   "metadata": {},
   "outputs": [],
   "source": []
  },
  {
   "cell_type": "markdown",
   "metadata": {},
   "source": [
    "__(b) Cluster the data using the *K-medoids* algorithm with `k=3` and plot the results.__"
   ]
  },
  {
   "cell_type": "code",
   "execution_count": null,
   "metadata": {},
   "outputs": [],
   "source": []
  },
  {
   "cell_type": "markdown",
   "metadata": {},
   "source": [
    "__(c) Describe the results from (a) and (b). Discuss the differences and *why* the results are different?__"
   ]
  },
  {
   "cell_type": "markdown",
   "metadata": {},
   "source": [
    "```\n",
    "> Your solution\n",
    "```"
   ]
  },
  {
   "cell_type": "markdown",
   "metadata": {},
   "source": [
    "---"
   ]
  }
 ],
 "metadata": {
  "colab": {
   "collapsed_sections": [],
   "name": "Assignment_09.ipynb",
   "provenance": []
  },
  "kernelspec": {
   "display_name": "Python 3 (ipykernel)",
   "language": "python",
   "name": "python3"
  },
  "language_info": {
   "codemirror_mode": {
    "name": "ipython",
    "version": 3
   },
   "file_extension": ".py",
   "mimetype": "text/x-python",
   "name": "python",
   "nbconvert_exporter": "python",
   "pygments_lexer": "ipython3",
   "version": "3.11.5"
  }
 },
 "nbformat": 4,
 "nbformat_minor": 4
}
