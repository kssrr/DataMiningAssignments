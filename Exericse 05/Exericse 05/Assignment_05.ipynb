{
 "cells": [
  {
   "cell_type": "markdown",
   "metadata": {},
   "source": [
    "Data Mining: Basic Concepts - Winter 2023/24\n",
    "---------------\n",
    "``` \n",
    "> University of Konstanz \n",
    "> Department of Computer and Information Science\n",
    "> Maximilian T. Fischer, Frederik Dennig, Yannick Metz, Udo Schlegel\n",
    "```\n",
    "__Organize in teams of 2 people, return the exercise on time using ILIAS__"
   ]
  },
  {
   "cell_type": "markdown",
   "metadata": {},
   "source": [
    "---"
   ]
  },
  {
   "cell_type": "markdown",
   "metadata": {},
   "source": [
    "Assignment 05 in Python \n",
    "---------------\n",
    "- ___Please put your names and student IDs here___:\n",
    "    - _Name_, _Student ID_\n",
    "    - _Name_, _Student ID_"
   ]
  },
  {
   "cell_type": "markdown",
   "metadata": {},
   "source": [
    "---"
   ]
  },
  {
   "cell_type": "markdown",
   "metadata": {},
   "source": [
    "## Exercise 1: Pruning Decision Trees With Cost-Complexity Pruning\n",
    " To get an idea of what values of the cost complexity parameter ``ccp_alpha`` could be appropriate, scikit-learn provides `DecisionTreeClassifier.cost_complexity_pruning_path` that returns the\n",
    "effective alphas and the corresponding total leaf impurities at each step of\n",
    "the pruning process.\n",
    "\n",
    "Use the breast cancer dataset form `scikit-learn` (loaded via `load_treast_cancer`) for your training and test sets."
   ]
  },
  {
   "cell_type": "code",
   "execution_count": 19,
   "metadata": {},
   "outputs": [],
   "source": [
    "import matplotlib.pyplot as plt\n",
    "from sklearn.model_selection import train_test_split\n",
    "from sklearn.datasets import load_breast_cancer\n",
    "from sklearn.tree import DecisionTreeClassifier"
   ]
  },
  {
   "cell_type": "code",
   "execution_count": null,
   "metadata": {},
   "outputs": [],
   "source": [
    "# Code here"
   ]
  },
  {
   "cell_type": "markdown",
   "metadata": {},
   "source": [
    "#### (a) Plot effective alpha and the total impurity of leaves. Explain what the plot shows. Make sure to remove the maximum effective alpha (to avoid the inclusion of a trivial decision tree.)"
   ]
  },
  {
   "cell_type": "code",
   "execution_count": 11,
   "metadata": {},
   "outputs": [],
   "source": [
    "# Code here"
   ]
  },
  {
   "cell_type": "markdown",
   "metadata": {},
   "source": [
    "##### (b) Train a decision tree for each effective alpha and save the models (e.g. withina a for loop)"
   ]
  },
  {
   "cell_type": "code",
   "execution_count": 12,
   "metadata": {},
   "outputs": [],
   "source": [
    "# Code here"
   ]
  },
  {
   "cell_type": "markdown",
   "metadata": {},
   "source": [
    "##### (c) Create a plot that shows that the number of nodes and tree depth decreases as alpha increases, based on the decision trees you have trained in (b)."
   ]
  },
  {
   "cell_type": "code",
   "execution_count": 13,
   "metadata": {},
   "outputs": [],
   "source": [
    "# Code here"
   ]
  },
  {
   "cell_type": "markdown",
   "metadata": {},
   "source": [
    "## Exercise 2: Bayesian Networks\n",
    "\n",
    "You are going to find a Bayesian network structures that best fit some the Titanic passenger survival dataset. The data provides information on the fate of passengers on the \"Titanic\", with features such as economic status (class), sex, age and survival. The data was discretized in order to let you only deal with discrete variables."
   ]
  },
  {
   "cell_type": "markdown",
   "metadata": {},
   "source": [
    "##### __(a) Load the Titanic dataset and use the structure learning in the `pomegranate` package to generate a `BayesianNetwork.from_samples()`.__ \n",
    "__Use the `exact` algorithm parameter and **plot** the resulting Bayesian network.__\n",
    "\n",
    "_(Hint: the input has to be a `X:array-like, shape (n_samples, n_nodes)` and you can resize the plot using the `plt.figure(figsize=(float, float)`)_"
   ]
  },
  {
   "cell_type": "code",
   "execution_count": 20,
   "metadata": {},
   "outputs": [],
   "source": [
    "%matplotlib inline\n",
    "import matplotlib.pyplot as plt\n",
    "import pandas as pd \n",
    "import numpy as np \n",
    "from pomegranate import BayesianNetwork\n",
    "\n",
    "# You may find the pygraphviz package helpful for plotting. \n",
    "# If you want to use it, we recommend installing it via '!conda install -c conda-forge pygraphviz'"
   ]
  },
  {
   "cell_type": "code",
   "execution_count": 21,
   "metadata": {},
   "outputs": [],
   "source": [
    "# Code here"
   ]
  },
  {
   "cell_type": "markdown",
   "metadata": {},
   "source": [
    "##### __(b) Describe the resulting Bayesian network which you plotted in (a) and explain why Bayesian networks are useful.__ "
   ]
  },
  {
   "cell_type": "markdown",
   "metadata": {},
   "source": [
    "Answer here"
   ]
  },
  {
   "cell_type": "markdown",
   "metadata": {},
   "source": [
    "## Exercise 3: Support Vector Machines \n",
    "In this exercise we will train a SVM to classify tumors into canerous and non-cancerous. "
   ]
  },
  {
   "cell_type": "code",
   "execution_count": null,
   "metadata": {},
   "outputs": [],
   "source": [
    "%matplotlib inline\n",
    "import pandas as pd \n",
    "import numpy as np \n",
    "import seaborn as sns \n",
    "\n",
    "from sklearn.datasets import load_breast_cancer\n",
    "data = load_breast_cancer()"
   ]
  },
  {
   "cell_type": "markdown",
   "metadata": {},
   "source": [
    "##### __(a) Transform the data into a dataframe__"
   ]
  },
  {
   "cell_type": "code",
   "execution_count": null,
   "metadata": {},
   "outputs": [],
   "source": [
    "# Code here"
   ]
  },
  {
   "cell_type": "markdown",
   "metadata": {},
   "source": [
    "##### __(b) Display the following attributes `mean compactness`,  `mean concavity`,  `mean concave points`, `mean symmetry` of cancer dataset using the `sns.pairplot()` method.__\n",
    "__Color canerous and non-cancerous data points in the scatterplot matrix.__"
   ]
  },
  {
   "cell_type": "code",
   "execution_count": null,
   "metadata": {},
   "outputs": [],
   "source": [
    "# Code here"
   ]
  },
  {
   "cell_type": "markdown",
   "metadata": {},
   "source": [
    "##### __(c) Create a training (75%) and test (25%) dataset using.__\n",
    "_(Hint: use the `sklearn.model_selection.train_test_split` method and the parameter `random_state=0`)_"
   ]
  },
  {
   "cell_type": "code",
   "execution_count": null,
   "metadata": {},
   "outputs": [],
   "source": [
    "# Code here"
   ]
  },
  {
   "cell_type": "markdown",
   "metadata": {},
   "source": [
    "##### __(d) Train a SVM (support vector machine) using the `sklearn.svm.SVC` and compute the accuracy on the training and test data.__\n",
    "_(Hint: use the `sklearn.metrics.accuracy_score` for the accuracy)_"
   ]
  },
  {
   "cell_type": "code",
   "execution_count": null,
   "metadata": {},
   "outputs": [],
   "source": [
    "# Code here"
   ]
  },
  {
   "cell_type": "markdown",
   "metadata": {},
   "source": [
    "##### __(e) Normalize (min-max-normalization) each column of the DataFrame generated in (a).__\n",
    "_(Hint: do not use any library other then `pandas` for this)_"
   ]
  },
  {
   "cell_type": "code",
   "execution_count": null,
   "metadata": {},
   "outputs": [],
   "source": [
    "# Code here"
   ]
  },
  {
   "cell_type": "markdown",
   "metadata": {},
   "source": [
    "##### __(f) Split the normalized data again into a training and test dataset.__ _(Hint: for the splitting use same parameters as in (c))_ \n",
    "__Train a SVM with the normalized data and compute again the accuracy for the normalized training and test data.__"
   ]
  },
  {
   "cell_type": "code",
   "execution_count": null,
   "metadata": {},
   "outputs": [],
   "source": [
    "# Code here"
   ]
  },
  {
   "cell_type": "markdown",
   "metadata": {},
   "source": [
    "##### __(g) Compare and explain the results of (d) and (f). Explain the differences in accuracy that result from normalization.__"
   ]
  },
  {
   "cell_type": "markdown",
   "metadata": {},
   "source": [
    "Answere here"
   ]
  }
 ],
 "metadata": {
  "kernelspec": {
   "display_name": "Python 3.9.12 64-bit",
   "language": "python",
   "name": "python3"
  },
  "language_info": {
   "codemirror_mode": {
    "name": "ipython",
    "version": 3
   },
   "file_extension": ".py",
   "mimetype": "text/x-python",
   "name": "python",
   "nbconvert_exporter": "python",
   "pygments_lexer": "ipython3",
   "version": "3.9.12"
  },
  "vscode": {
   "interpreter": {
    "hash": "aee8b7b246df8f9039afb4144a1f6fd8d2ca17a180786b69acc140d282b71a49"
   }
  }
 },
 "nbformat": 4,
 "nbformat_minor": 4
}
