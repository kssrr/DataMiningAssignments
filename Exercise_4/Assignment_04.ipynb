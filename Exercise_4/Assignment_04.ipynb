{
 "cells": [
  {
   "cell_type": "markdown",
   "metadata": {},
   "source": [
    "Data Mining: Basic Concepts - Winter 2023/24\n",
    "---------------\n",
    "``` \n",
    "> University of Konstanz \n",
    "> Department of Computer and Information Science\n",
    "> Maximilian T. Fischer, Frederik Dennig, Yannick Metz, Udo Schlegel\n",
    "```\n",
    "__Organize in teams of 2 people, return the exercise on time using ILIAS__"
   ]
  },
  {
   "cell_type": "markdown",
   "metadata": {},
   "source": [
    "---"
   ]
  },
  {
   "cell_type": "markdown",
   "metadata": {},
   "source": [
    "Assignment 04 in Python\n",
    "---------------\n",
    "- ___Please put your names and student IDs here___:\n",
    "    - _Name_, _Student ID_\n",
    "    - _Name_, _Student ID_"
   ]
  },
  {
   "cell_type": "markdown",
   "metadata": {},
   "source": [
    "---"
   ]
  },
  {
   "cell_type": "markdown",
   "metadata": {},
   "source": [
    "#### Exercise 1: Pruning Decision Trees"
   ]
  },
  {
   "cell_type": "markdown",
   "metadata": {},
   "source": [
    "__We will investigate the “diabetes.csv” dataset. Read the “description.txt” to understand the individual columns. Use the already imported libraries for this exercise (Note: You can install sklearn via pip as the `scikit-learn` package).__"
   ]
  },
  {
   "cell_type": "code",
   "execution_count": 1,
   "metadata": {},
   "outputs": [],
   "source": [
    "import pandas as pd \n",
    "from sklearn.model_selection import train_test_split\n",
    "from sklearn import tree"
   ]
  },
  {
   "cell_type": "markdown",
   "metadata": {},
   "source": [
    "##### __(a) Load the dataset and use a sampling method to split the dataset into a training (80% rows) and test (20% rows) dataset. The target column is the last column.__\n",
    "_(Hint: use the `sklearn.model_selection.train_test_split` and set the parameter to `random_state = 0`)_"
   ]
  },
  {
   "cell_type": "code",
   "execution_count": null,
   "metadata": {},
   "outputs": [],
   "source": []
  },
  {
   "cell_type": "markdown",
   "metadata": {},
   "source": [
    "##### __(b) Use the training dataset to train a decision tree. Plot the tree.__ "
   ]
  },
  {
   "cell_type": "code",
   "execution_count": null,
   "metadata": {},
   "outputs": [],
   "source": []
  },
  {
   "cell_type": "markdown",
   "metadata": {},
   "source": [
    "##### __(c)\tMeasure the accuracy of the decision tree on the training and test dataset. The accuracy is one metric for evaluating classification models. `Accuracy = (number of correct predictions) / (total number of predictions)`.__\n",
    "_(Hint: use the `DecisionTreeClassifier.score` method)_"
   ]
  },
  {
   "cell_type": "markdown",
   "metadata": {},
   "source": []
  },
  {
   "cell_type": "code",
   "execution_count": null,
   "metadata": {},
   "outputs": [],
   "source": []
  },
  {
   "cell_type": "markdown",
   "metadata": {},
   "source": [
    "##### __(d) Use prepruning and train a new decision tree. Use the `max_depth=7` parameter for the `DecisionTreeClassifier`. Plot the pruned decision tree.__"
   ]
  },
  {
   "cell_type": "code",
   "execution_count": null,
   "metadata": {},
   "outputs": [],
   "source": []
  },
  {
   "cell_type": "markdown",
   "metadata": {},
   "source": [
    "##### __(e) Measure the accuracy of the pruned decision tree on the training and test dataset.__ "
   ]
  },
  {
   "cell_type": "markdown",
   "metadata": {},
   "source": []
  },
  {
   "cell_type": "markdown",
   "metadata": {},
   "source": []
  },
  {
   "cell_type": "code",
   "execution_count": null,
   "metadata": {},
   "outputs": [],
   "source": []
  },
  {
   "cell_type": "markdown",
   "metadata": {},
   "source": [
    "##### __(f) Explain and discuss the results from c) and e).__"
   ]
  },
  {
   "cell_type": "code",
   "execution_count": null,
   "metadata": {},
   "outputs": [],
   "source": []
  },
  {
   "cell_type": "markdown",
   "metadata": {},
   "source": [
    "```\n",
    "> Your answer \n",
    "```"
   ]
  },
  {
   "cell_type": "markdown",
   "metadata": {},
   "source": [
    "---"
   ]
  },
  {
   "cell_type": "markdown",
   "metadata": {},
   "source": [
    "#### Exercise 2: Naïve Bayes Classification\n",
    "\n",
    "|MsgID|TimeZone|GeoLocation|SuspiciousSubject|SuspiciousBody|Spam|\n",
    "|-----|--------|-----------|-----------------|--------------|----|\n",
    "|1|US|US|No|Yes|No|\n",
    "|2|US|US|No|No|Yes|\n",
    "|3|EU|US|No|Yes|No|\n",
    "|4|AS|EU|No|Yes|Yes|\n",
    "|5|AS|AS|Yes|Yes|Yes|\n",
    "|6|AS|AS|Yes|No|No|\n",
    "|7|EU|AS|Yes|No|Yes|\n",
    "|8|US|EU|No|Yes|No|\n",
    "|9|US|AS|Yes|Yes|Yes|\n",
    "|10|AS|EU|Yes|Yes|Yes|\n",
    "|11|US|EU|Yes|No|Yes|\n",
    "|12|EU|EU|No|No|Yes|\n",
    "|13|EU|US|Yes|Yes|Yes|\n",
    "|14|AS|EU|No|No|No|\n",
    "\n",
    "* EU = Europe; US = United States; AS = Asia"
   ]
  },
  {
   "cell_type": "markdown",
   "metadata": {},
   "source": [
    "##### __(a) According to the lecture slides, a Naïve Bayes Classifier assumes class conditional independence. Explain what this means and why that might be a problem."
   ]
  },
  {
   "cell_type": "markdown",
   "metadata": {},
   "source": [
    "```\n",
    "> Your answer\n",
    "```"
   ]
  },
  {
   "cell_type": "markdown",
   "metadata": {},
   "source": [
    "##### __(b) For the given data above, calculate all conditional probabilities required by a Naïve Bayes Classifier by hand.__ "
   ]
  },
  {
   "cell_type": "markdown",
   "metadata": {},
   "source": [
    "```\n",
    "> Your answer\n",
    "```"
   ]
  },
  {
   "cell_type": "markdown",
   "metadata": {},
   "source": [
    "##### __(c)\tCalculate the posterior probabilities and classify the following three E-Mails by hand, using the probabilities calculated above.__ \n",
    "    a. E-mail A = (US, US, Yes, Yes)\n",
    "    b. E-mail B = (Asia, Asia, No, No)\n",
    "    c. E-mail C = (EU, Asia, No, Yes)\n"
   ]
  },
  {
   "cell_type": "markdown",
   "metadata": {},
   "source": [
    "```\n",
    "> Your answer\n",
    "```"
   ]
  },
  {
   "cell_type": "markdown",
   "metadata": {},
   "source": [
    "##### __(d) What problem do you encounter when classifying Email C and which technique could you use to overcome this problem? __ "
   ]
  },
  {
   "cell_type": "markdown",
   "metadata": {},
   "source": [
    "```\n",
    "> Your answer\n",
    "```"
   ]
  },
  {
   "cell_type": "code",
   "execution_count": null,
   "metadata": {},
   "outputs": [],
   "source": []
  },
  {
   "cell_type": "markdown",
   "metadata": {},
   "source": [
    "---"
   ]
  },
  {
   "cell_type": "markdown",
   "metadata": {},
   "source": [
    "#### Exercise 3: Naïve Bayes Classification "
   ]
  },
  {
   "cell_type": "markdown",
   "metadata": {},
   "source": [
    "__In this exercise we will use the Naïve Bayes classification methods on a real data set. We will classify the digits dataset (see https://scikit-learn.org/stable/auto_examples/datasets/plot_digits_last_image.html)__"
   ]
  },
  {
   "cell_type": "code",
   "execution_count": 2,
   "metadata": {},
   "outputs": [
    {
     "data": {
      "text/plain": [
       "<Figure size 640x480 with 0 Axes>"
      ]
     },
     "metadata": {},
     "output_type": "display_data"
    },
    {
     "data": {
      "text/plain": [
       "<Figure size 480x480 with 1 Axes>"
      ]
     },
     "metadata": {},
     "output_type": "display_data"
    }
   ],
   "source": [
    "from sklearn.datasets import load_digits\n",
    "digits = load_digits()\n",
    "digits.keys()\n",
    "\n",
    "## example plot of one of the digits\n",
    "import matplotlib.pyplot as plt \n",
    "plt.gray()\n",
    "plt.matshow(digits.images[0]) \n",
    "plt.show() "
   ]
  },
  {
   "cell_type": "markdown",
   "metadata": {},
   "source": [
    "##### __(a) Split the dataset into a training (80% rows) and test (20% rows) data. The data column is `digits.data` and the target column `digits.target`.__\n",
    "_(Hint: use the `sklearn.model_selection.train_test_split` and set the parameter to `random_state = 0`)_"
   ]
  },
  {
   "cell_type": "code",
   "execution_count": null,
   "metadata": {},
   "outputs": [],
   "source": []
  },
  {
   "cell_type": "markdown",
   "metadata": {},
   "source": [
    "##### __(b) Generate a model and fit the dataset on the classifier.__ \n",
    "_(Hint: use already implemented version in `sklearn.naive_bayes.GaussianNB`)_"
   ]
  },
  {
   "cell_type": "code",
   "execution_count": null,
   "metadata": {},
   "outputs": [],
   "source": []
  },
  {
   "cell_type": "markdown",
   "metadata": {},
   "source": [
    "##### __(c) Compute the accuracy on the train and test data using the trained model.__ \n",
    "_(Hint: use already the `GaussianNB.predict` and `sklearn.metrics.accuracy_score` method for this)_"
   ]
  },
  {
   "cell_type": "code",
   "execution_count": null,
   "metadata": {},
   "outputs": [],
   "source": []
  }
 ],
 "metadata": {
  "kernelspec": {
   "display_name": "Python 3.10.6 64-bit",
   "language": "python",
   "name": "python3"
  },
  "language_info": {
   "codemirror_mode": {
    "name": "ipython",
    "version": 3
   },
   "file_extension": ".py",
   "mimetype": "text/x-python",
   "name": "python",
   "nbconvert_exporter": "python",
   "pygments_lexer": "ipython3",
   "version": "3.10.6"
  },
  "vscode": {
   "interpreter": {
    "hash": "41a53f9f1c4e6100adb615a97637846208a0e91ef79bf1ee121234ca4e90fc3d"
   }
  }
 },
 "nbformat": 4,
 "nbformat_minor": 4
}
